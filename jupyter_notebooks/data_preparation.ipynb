{
 "cells": [
  {
   "cell_type": "code",
   "execution_count": 1,
   "metadata": {},
   "outputs": [],
   "source": [
    "import pandas as pd\n",
    "import numpy as np\n",
    "from sklearn import preprocessing\n",
    "import matplotlib as plt\n",
    "from matplotlib import pyplot"
   ]
  },
  {
   "cell_type": "code",
   "execution_count": 2,
   "metadata": {},
   "outputs": [],
   "source": [
    "data = pd.read_csv(\"../outputs/clean_houses.csv\")"
   ]
  },
  {
   "cell_type": "code",
   "execution_count": 3,
   "metadata": {
    "scrolled": true
   },
   "outputs": [
    {
     "data": {
      "text/html": [
       "<div>\n",
       "<style scoped>\n",
       "    .dataframe tbody tr th:only-of-type {\n",
       "        vertical-align: middle;\n",
       "    }\n",
       "\n",
       "    .dataframe tbody tr th {\n",
       "        vertical-align: top;\n",
       "    }\n",
       "\n",
       "    .dataframe thead th {\n",
       "        text-align: right;\n",
       "    }\n",
       "</style>\n",
       "<table border=\"1\" class=\"dataframe\">\n",
       "  <thead>\n",
       "    <tr style=\"text-align: right;\">\n",
       "      <th></th>\n",
       "      <th>index</th>\n",
       "      <th>neighborhood_id</th>\n",
       "      <th>house_type_id</th>\n",
       "      <th>is_renewal_needed</th>\n",
       "      <th>is_new_development</th>\n",
       "      <th>sq_mt_built</th>\n",
       "      <th>n_rooms</th>\n",
       "      <th>n_bathrooms</th>\n",
       "      <th>floor</th>\n",
       "      <th>is_exterior</th>\n",
       "      <th>has_lift</th>\n",
       "      <th>has_parking</th>\n",
       "      <th>has_storage_room</th>\n",
       "      <th>has_terrace</th>\n",
       "      <th>has_balcony</th>\n",
       "      <th>has_pool</th>\n",
       "      <th>buy_price</th>\n",
       "      <th>buy_price_by_area</th>\n",
       "      <th>latitude</th>\n",
       "      <th>longitude</th>\n",
       "    </tr>\n",
       "  </thead>\n",
       "  <tbody>\n",
       "    <tr>\n",
       "      <th>0</th>\n",
       "      <td>0</td>\n",
       "      <td>San Cristóbal, Villaverde(Madrid)</td>\n",
       "      <td>HouseType 1: Pisos</td>\n",
       "      <td>False</td>\n",
       "      <td>False</td>\n",
       "      <td>64.0</td>\n",
       "      <td>2</td>\n",
       "      <td>1.0</td>\n",
       "      <td>3</td>\n",
       "      <td>True</td>\n",
       "      <td>False</td>\n",
       "      <td>False</td>\n",
       "      <td>False</td>\n",
       "      <td>False</td>\n",
       "      <td>False</td>\n",
       "      <td>False</td>\n",
       "      <td>85000</td>\n",
       "      <td>1328</td>\n",
       "      <td>40.343263</td>\n",
       "      <td>-3.688352</td>\n",
       "    </tr>\n",
       "    <tr>\n",
       "      <th>1</th>\n",
       "      <td>1</td>\n",
       "      <td>Los Ángeles, Villaverde(Madrid)</td>\n",
       "      <td>HouseType 1: Pisos</td>\n",
       "      <td>True</td>\n",
       "      <td>False</td>\n",
       "      <td>70.0</td>\n",
       "      <td>3</td>\n",
       "      <td>1.0</td>\n",
       "      <td>4</td>\n",
       "      <td>True</td>\n",
       "      <td>True</td>\n",
       "      <td>False</td>\n",
       "      <td>False</td>\n",
       "      <td>True</td>\n",
       "      <td>False</td>\n",
       "      <td>False</td>\n",
       "      <td>129900</td>\n",
       "      <td>1856</td>\n",
       "      <td>40.355109</td>\n",
       "      <td>-3.700105</td>\n",
       "    </tr>\n",
       "    <tr>\n",
       "      <th>2</th>\n",
       "      <td>2</td>\n",
       "      <td>San Andrés, Villaverde(Madrid)</td>\n",
       "      <td>HouseType 1: Pisos</td>\n",
       "      <td>False</td>\n",
       "      <td>False</td>\n",
       "      <td>94.0</td>\n",
       "      <td>2</td>\n",
       "      <td>2.0</td>\n",
       "      <td>1</td>\n",
       "      <td>True</td>\n",
       "      <td>True</td>\n",
       "      <td>False</td>\n",
       "      <td>True</td>\n",
       "      <td>False</td>\n",
       "      <td>False</td>\n",
       "      <td>False</td>\n",
       "      <td>144247</td>\n",
       "      <td>1535</td>\n",
       "      <td>40.345539</td>\n",
       "      <td>-3.710970</td>\n",
       "    </tr>\n",
       "    <tr>\n",
       "      <th>3</th>\n",
       "      <td>3</td>\n",
       "      <td>San Andrés, Villaverde(Madrid)</td>\n",
       "      <td>HouseType 1: Pisos</td>\n",
       "      <td>False</td>\n",
       "      <td>False</td>\n",
       "      <td>64.0</td>\n",
       "      <td>2</td>\n",
       "      <td>1.0</td>\n",
       "      <td>Bajo</td>\n",
       "      <td>True</td>\n",
       "      <td>True</td>\n",
       "      <td>False</td>\n",
       "      <td>True</td>\n",
       "      <td>False</td>\n",
       "      <td>False</td>\n",
       "      <td>False</td>\n",
       "      <td>109900</td>\n",
       "      <td>1717</td>\n",
       "      <td>40.345539</td>\n",
       "      <td>-3.710970</td>\n",
       "    </tr>\n",
       "    <tr>\n",
       "      <th>4</th>\n",
       "      <td>4</td>\n",
       "      <td>Los Rosales, Villaverde(Madrid)</td>\n",
       "      <td>HouseType 1: Pisos</td>\n",
       "      <td>False</td>\n",
       "      <td>False</td>\n",
       "      <td>108.0</td>\n",
       "      <td>2</td>\n",
       "      <td>2.0</td>\n",
       "      <td>4</td>\n",
       "      <td>True</td>\n",
       "      <td>True</td>\n",
       "      <td>True</td>\n",
       "      <td>True</td>\n",
       "      <td>False</td>\n",
       "      <td>False</td>\n",
       "      <td>True</td>\n",
       "      <td>260000</td>\n",
       "      <td>2407</td>\n",
       "      <td>40.355841</td>\n",
       "      <td>-3.688399</td>\n",
       "    </tr>\n",
       "  </tbody>\n",
       "</table>\n",
       "</div>"
      ],
      "text/plain": [
       "   index                    neighborhood_id       house_type_id  \\\n",
       "0      0  San Cristóbal, Villaverde(Madrid)  HouseType 1: Pisos   \n",
       "1      1    Los Ángeles, Villaverde(Madrid)  HouseType 1: Pisos   \n",
       "2      2     San Andrés, Villaverde(Madrid)  HouseType 1: Pisos   \n",
       "3      3     San Andrés, Villaverde(Madrid)  HouseType 1: Pisos   \n",
       "4      4    Los Rosales, Villaverde(Madrid)  HouseType 1: Pisos   \n",
       "\n",
       "   is_renewal_needed  is_new_development  sq_mt_built  n_rooms  n_bathrooms  \\\n",
       "0              False               False         64.0        2          1.0   \n",
       "1               True               False         70.0        3          1.0   \n",
       "2              False               False         94.0        2          2.0   \n",
       "3              False               False         64.0        2          1.0   \n",
       "4              False               False        108.0        2          2.0   \n",
       "\n",
       "  floor  is_exterior  has_lift  has_parking  has_storage_room  has_terrace  \\\n",
       "0     3         True     False        False             False        False   \n",
       "1     4         True      True        False             False         True   \n",
       "2     1         True      True        False              True        False   \n",
       "3  Bajo         True      True        False              True        False   \n",
       "4     4         True      True         True              True        False   \n",
       "\n",
       "   has_balcony  has_pool  buy_price  buy_price_by_area   latitude  longitude  \n",
       "0        False     False      85000               1328  40.343263  -3.688352  \n",
       "1        False     False     129900               1856  40.355109  -3.700105  \n",
       "2        False     False     144247               1535  40.345539  -3.710970  \n",
       "3        False     False     109900               1717  40.345539  -3.710970  \n",
       "4        False      True     260000               2407  40.355841  -3.688399  "
      ]
     },
     "execution_count": 3,
     "metadata": {},
     "output_type": "execute_result"
    }
   ],
   "source": [
    "data.rename(columns={\"Unnamed: 0\":\"index\"},inplace=True)\n",
    "data.head()"
   ]
  },
  {
   "cell_type": "code",
   "execution_count": 4,
   "metadata": {},
   "outputs": [
    {
     "name": "stdout",
     "output_type": "stream",
     "text": [
      "<class 'pandas.core.frame.DataFrame'>\n",
      "RangeIndex: 17398 entries, 0 to 17397\n",
      "Data columns (total 20 columns):\n",
      " #   Column              Non-Null Count  Dtype  \n",
      "---  ------              --------------  -----  \n",
      " 0   index               17398 non-null  int64  \n",
      " 1   neighborhood_id     17398 non-null  object \n",
      " 2   house_type_id       17398 non-null  object \n",
      " 3   is_renewal_needed   17398 non-null  bool   \n",
      " 4   is_new_development  17398 non-null  bool   \n",
      " 5   sq_mt_built         17398 non-null  float64\n",
      " 6   n_rooms             17398 non-null  int64  \n",
      " 7   n_bathrooms         17398 non-null  float64\n",
      " 8   floor               17398 non-null  object \n",
      " 9   is_exterior         17398 non-null  bool   \n",
      " 10  has_lift            17398 non-null  bool   \n",
      " 11  has_parking         17398 non-null  bool   \n",
      " 12  has_storage_room    17398 non-null  bool   \n",
      " 13  has_terrace         17398 non-null  bool   \n",
      " 14  has_balcony         17398 non-null  bool   \n",
      " 15  has_pool            17398 non-null  bool   \n",
      " 16  buy_price           17398 non-null  int64  \n",
      " 17  buy_price_by_area   17398 non-null  int64  \n",
      " 18  latitude            17398 non-null  float64\n",
      " 19  longitude           17398 non-null  float64\n",
      "dtypes: bool(9), float64(4), int64(4), object(3)\n",
      "memory usage: 1.6+ MB\n"
     ]
    }
   ],
   "source": [
    "# Para realizar nuestra predicción necesitamos que todos nuestros datos sean numéricos.\n",
    "# Vamos a comprobar por tanto que tipos de datos tenemos.\n",
    "\n",
    "data.info()"
   ]
  },
  {
   "cell_type": "code",
   "execution_count": 5,
   "metadata": {},
   "outputs": [],
   "source": [
    "def transf(column):\n",
    "\n",
    "    le = preprocessing.LabelEncoder()\n",
    "    data[column] = le.fit_transform(data[column])\n",
    "    return data[column]"
   ]
  },
  {
   "cell_type": "code",
   "execution_count": 6,
   "metadata": {},
   "outputs": [
    {
     "data": {
      "text/plain": [
       "0        0\n",
       "1        0\n",
       "2        0\n",
       "3        0\n",
       "4        1\n",
       "        ..\n",
       "17393    1\n",
       "17394    1\n",
       "17395    0\n",
       "17396    1\n",
       "17397    1\n",
       "Name: has_pool, Length: 17398, dtype: int64"
      ]
     },
     "execution_count": 6,
     "metadata": {},
     "output_type": "execute_result"
    }
   ],
   "source": [
    "# Transformamos ahora todas las columnas type object y bool a float64, excepto floor.\n",
    "\n",
    "transf(\"house_type_id\")\n",
    "transf(\"is_renewal_needed\")\n",
    "transf(\"is_new_development\")\n",
    "transf(\"is_exterior\")\n",
    "transf(\"has_lift\")\n",
    "transf(\"has_parking\")\n",
    "transf(\"has_storage_room\")\n",
    "transf(\"has_terrace\")\n",
    "transf(\"has_balcony\")\n",
    "transf(\"has_pool\")"
   ]
  },
  {
   "cell_type": "code",
   "execution_count": 7,
   "metadata": {},
   "outputs": [],
   "source": [
    "# Aplicamos ahora get_dummies a la columna floor.\n",
    "\n",
    "data = pd.get_dummies(data, columns = [\"floor\"])"
   ]
  },
  {
   "cell_type": "code",
   "execution_count": 8,
   "metadata": {},
   "outputs": [
    {
     "data": {
      "text/plain": [
       "Index(['index', 'neighborhood_id', 'house_type_id', 'is_renewal_needed',\n",
       "       'is_new_development', 'sq_mt_built', 'n_rooms', 'n_bathrooms',\n",
       "       'is_exterior', 'has_lift', 'has_parking', 'has_storage_room',\n",
       "       'has_terrace', 'has_balcony', 'has_pool', 'buy_price',\n",
       "       'buy_price_by_area', 'latitude', 'longitude', 'floor_1', 'floor_2',\n",
       "       'floor_3', 'floor_4', 'floor_5', 'floor_6', 'floor_7', 'floor_8',\n",
       "       'floor_9', 'floor_Bajo', 'floor_Entreplanta exterior',\n",
       "       'floor_Entreplanta interior', 'floor_Semi-sótano exterior',\n",
       "       'floor_Semi-sótano interior', 'floor_Sótano exterior',\n",
       "       'floor_Sótano interior'],\n",
       "      dtype='object')"
      ]
     },
     "execution_count": 8,
     "metadata": {},
     "output_type": "execute_result"
    }
   ],
   "source": [
    "data.columns"
   ]
  },
  {
   "cell_type": "code",
   "execution_count": 9,
   "metadata": {},
   "outputs": [],
   "source": [
    "# Vamos a ordenar ahora las columnas y nos deshacemos de la columna neighborhood.\n",
    "\n",
    "data = data[['index', 'house_type_id', 'is_renewal_needed',\n",
    "        'is_new_development', 'sq_mt_built', 'n_rooms', 'n_bathrooms',\n",
    "        'is_exterior', 'has_lift', 'has_parking', 'has_storage_room',\n",
    "        'has_terrace', 'has_balcony', 'has_pool',\n",
    "        'latitude', 'longitude', 'floor_1', 'floor_2',\n",
    "        'floor_3', 'floor_4', 'floor_5', 'floor_6', 'floor_7', 'floor_8',\n",
    "        'floor_9', 'floor_Bajo', 'floor_Entreplanta exterior',\n",
    "        'floor_Entreplanta interior', 'floor_Semi-sótano exterior',\n",
    "        'floor_Semi-sótano interior', 'floor_Sótano exterior',\n",
    "        'floor_Sótano interior', 'buy_price']]"
   ]
  },
  {
   "cell_type": "code",
   "execution_count": 10,
   "metadata": {},
   "outputs": [
    {
     "data": {
      "text/html": [
       "<div>\n",
       "<style scoped>\n",
       "    .dataframe tbody tr th:only-of-type {\n",
       "        vertical-align: middle;\n",
       "    }\n",
       "\n",
       "    .dataframe tbody tr th {\n",
       "        vertical-align: top;\n",
       "    }\n",
       "\n",
       "    .dataframe thead th {\n",
       "        text-align: right;\n",
       "    }\n",
       "</style>\n",
       "<table border=\"1\" class=\"dataframe\">\n",
       "  <thead>\n",
       "    <tr style=\"text-align: right;\">\n",
       "      <th></th>\n",
       "      <th>house_type_id</th>\n",
       "      <th>is_renewal_needed</th>\n",
       "      <th>is_new_development</th>\n",
       "      <th>sq_mt_built</th>\n",
       "      <th>n_rooms</th>\n",
       "      <th>n_bathrooms</th>\n",
       "      <th>is_exterior</th>\n",
       "      <th>has_lift</th>\n",
       "      <th>has_parking</th>\n",
       "      <th>has_storage_room</th>\n",
       "      <th>...</th>\n",
       "      <th>floor_8</th>\n",
       "      <th>floor_9</th>\n",
       "      <th>floor_Bajo</th>\n",
       "      <th>floor_Entreplanta exterior</th>\n",
       "      <th>floor_Entreplanta interior</th>\n",
       "      <th>floor_Semi-sótano exterior</th>\n",
       "      <th>floor_Semi-sótano interior</th>\n",
       "      <th>floor_Sótano exterior</th>\n",
       "      <th>floor_Sótano interior</th>\n",
       "      <th>buy_price</th>\n",
       "    </tr>\n",
       "    <tr>\n",
       "      <th>index</th>\n",
       "      <th></th>\n",
       "      <th></th>\n",
       "      <th></th>\n",
       "      <th></th>\n",
       "      <th></th>\n",
       "      <th></th>\n",
       "      <th></th>\n",
       "      <th></th>\n",
       "      <th></th>\n",
       "      <th></th>\n",
       "      <th></th>\n",
       "      <th></th>\n",
       "      <th></th>\n",
       "      <th></th>\n",
       "      <th></th>\n",
       "      <th></th>\n",
       "      <th></th>\n",
       "      <th></th>\n",
       "      <th></th>\n",
       "      <th></th>\n",
       "      <th></th>\n",
       "    </tr>\n",
       "  </thead>\n",
       "  <tbody>\n",
       "    <tr>\n",
       "      <th>0</th>\n",
       "      <td>0</td>\n",
       "      <td>0</td>\n",
       "      <td>0</td>\n",
       "      <td>64.0</td>\n",
       "      <td>2</td>\n",
       "      <td>1.0</td>\n",
       "      <td>1</td>\n",
       "      <td>0</td>\n",
       "      <td>0</td>\n",
       "      <td>0</td>\n",
       "      <td>...</td>\n",
       "      <td>0</td>\n",
       "      <td>0</td>\n",
       "      <td>0</td>\n",
       "      <td>0</td>\n",
       "      <td>0</td>\n",
       "      <td>0</td>\n",
       "      <td>0</td>\n",
       "      <td>0</td>\n",
       "      <td>0</td>\n",
       "      <td>85000</td>\n",
       "    </tr>\n",
       "    <tr>\n",
       "      <th>1</th>\n",
       "      <td>0</td>\n",
       "      <td>1</td>\n",
       "      <td>0</td>\n",
       "      <td>70.0</td>\n",
       "      <td>3</td>\n",
       "      <td>1.0</td>\n",
       "      <td>1</td>\n",
       "      <td>1</td>\n",
       "      <td>0</td>\n",
       "      <td>0</td>\n",
       "      <td>...</td>\n",
       "      <td>0</td>\n",
       "      <td>0</td>\n",
       "      <td>0</td>\n",
       "      <td>0</td>\n",
       "      <td>0</td>\n",
       "      <td>0</td>\n",
       "      <td>0</td>\n",
       "      <td>0</td>\n",
       "      <td>0</td>\n",
       "      <td>129900</td>\n",
       "    </tr>\n",
       "    <tr>\n",
       "      <th>2</th>\n",
       "      <td>0</td>\n",
       "      <td>0</td>\n",
       "      <td>0</td>\n",
       "      <td>94.0</td>\n",
       "      <td>2</td>\n",
       "      <td>2.0</td>\n",
       "      <td>1</td>\n",
       "      <td>1</td>\n",
       "      <td>0</td>\n",
       "      <td>1</td>\n",
       "      <td>...</td>\n",
       "      <td>0</td>\n",
       "      <td>0</td>\n",
       "      <td>0</td>\n",
       "      <td>0</td>\n",
       "      <td>0</td>\n",
       "      <td>0</td>\n",
       "      <td>0</td>\n",
       "      <td>0</td>\n",
       "      <td>0</td>\n",
       "      <td>144247</td>\n",
       "    </tr>\n",
       "    <tr>\n",
       "      <th>3</th>\n",
       "      <td>0</td>\n",
       "      <td>0</td>\n",
       "      <td>0</td>\n",
       "      <td>64.0</td>\n",
       "      <td>2</td>\n",
       "      <td>1.0</td>\n",
       "      <td>1</td>\n",
       "      <td>1</td>\n",
       "      <td>0</td>\n",
       "      <td>1</td>\n",
       "      <td>...</td>\n",
       "      <td>0</td>\n",
       "      <td>0</td>\n",
       "      <td>1</td>\n",
       "      <td>0</td>\n",
       "      <td>0</td>\n",
       "      <td>0</td>\n",
       "      <td>0</td>\n",
       "      <td>0</td>\n",
       "      <td>0</td>\n",
       "      <td>109900</td>\n",
       "    </tr>\n",
       "    <tr>\n",
       "      <th>4</th>\n",
       "      <td>0</td>\n",
       "      <td>0</td>\n",
       "      <td>0</td>\n",
       "      <td>108.0</td>\n",
       "      <td>2</td>\n",
       "      <td>2.0</td>\n",
       "      <td>1</td>\n",
       "      <td>1</td>\n",
       "      <td>1</td>\n",
       "      <td>1</td>\n",
       "      <td>...</td>\n",
       "      <td>0</td>\n",
       "      <td>0</td>\n",
       "      <td>0</td>\n",
       "      <td>0</td>\n",
       "      <td>0</td>\n",
       "      <td>0</td>\n",
       "      <td>0</td>\n",
       "      <td>0</td>\n",
       "      <td>0</td>\n",
       "      <td>260000</td>\n",
       "    </tr>\n",
       "  </tbody>\n",
       "</table>\n",
       "<p>5 rows × 32 columns</p>\n",
       "</div>"
      ],
      "text/plain": [
       "       house_type_id  is_renewal_needed  is_new_development  sq_mt_built  \\\n",
       "index                                                                      \n",
       "0                  0                  0                   0         64.0   \n",
       "1                  0                  1                   0         70.0   \n",
       "2                  0                  0                   0         94.0   \n",
       "3                  0                  0                   0         64.0   \n",
       "4                  0                  0                   0        108.0   \n",
       "\n",
       "       n_rooms  n_bathrooms  is_exterior  has_lift  has_parking  \\\n",
       "index                                                             \n",
       "0            2          1.0            1         0            0   \n",
       "1            3          1.0            1         1            0   \n",
       "2            2          2.0            1         1            0   \n",
       "3            2          1.0            1         1            0   \n",
       "4            2          2.0            1         1            1   \n",
       "\n",
       "       has_storage_room  ...  floor_8  floor_9  floor_Bajo  \\\n",
       "index                    ...                                 \n",
       "0                     0  ...        0        0           0   \n",
       "1                     0  ...        0        0           0   \n",
       "2                     1  ...        0        0           0   \n",
       "3                     1  ...        0        0           1   \n",
       "4                     1  ...        0        0           0   \n",
       "\n",
       "       floor_Entreplanta exterior  floor_Entreplanta interior  \\\n",
       "index                                                           \n",
       "0                               0                           0   \n",
       "1                               0                           0   \n",
       "2                               0                           0   \n",
       "3                               0                           0   \n",
       "4                               0                           0   \n",
       "\n",
       "       floor_Semi-sótano exterior  floor_Semi-sótano interior  \\\n",
       "index                                                           \n",
       "0                               0                           0   \n",
       "1                               0                           0   \n",
       "2                               0                           0   \n",
       "3                               0                           0   \n",
       "4                               0                           0   \n",
       "\n",
       "       floor_Sótano exterior  floor_Sótano interior  buy_price  \n",
       "index                                                           \n",
       "0                          0                      0      85000  \n",
       "1                          0                      0     129900  \n",
       "2                          0                      0     144247  \n",
       "3                          0                      0     109900  \n",
       "4                          0                      0     260000  \n",
       "\n",
       "[5 rows x 32 columns]"
      ]
     },
     "execution_count": 10,
     "metadata": {},
     "output_type": "execute_result"
    }
   ],
   "source": [
    "data.set_index(\"index\", inplace=True)\n",
    "data.head()"
   ]
  },
  {
   "cell_type": "markdown",
   "metadata": {},
   "source": [
    "### Una vez tenemos todos los datos correctamente organizados, vamos a proceder a entrenar los datos.\n",
    "### En este caso nuestro GroundTruth es buy price, por lo que vamos a proceder a realizar el estudio."
   ]
  },
  {
   "cell_type": "code",
   "execution_count": 11,
   "metadata": {},
   "outputs": [],
   "source": [
    "columnas = [col for col in data.columns if col not in [\"buy_price\"]]\n",
    "X = data[columnas]\n",
    "y = data[\"buy_price\"]"
   ]
  },
  {
   "cell_type": "code",
   "execution_count": 12,
   "metadata": {},
   "outputs": [],
   "source": [
    "from sklearn.model_selection import train_test_split\n",
    "\n",
    "X_train, X_test, y_train, y_test = train_test_split(X, y, test_size = 0.2, random_state=42)"
   ]
  },
  {
   "cell_type": "markdown",
   "metadata": {},
   "source": [
    "### Vamos a descubrir cual es el modelo que mejor funciona"
   ]
  },
  {
   "cell_type": "code",
   "execution_count": 13,
   "metadata": {},
   "outputs": [],
   "source": [
    "from sklearn.tree import DecisionTreeRegressor\n",
    "from sklearn.experimental import enable_hist_gradient_boosting\n",
    "from sklearn.ensemble import RandomForestRegressor, ExtraTreesRegressor, GradientBoostingRegressor, HistGradientBoostingRegressor, VotingRegressor\n",
    "from sklearn.metrics import  explained_variance_score, max_error, mean_absolute_error, mean_squared_error, r2_score\n",
    "from sklearn.model_selection import cross_val_score"
   ]
  },
  {
   "cell_type": "code",
   "execution_count": 14,
   "metadata": {},
   "outputs": [],
   "source": [
    "models = {\n",
    "    \"DecisionTree\" : DecisionTreeRegressor(),\n",
    "    \"RandomForest\": RandomForestRegressor(),\n",
    "    \"ExtraTrees\" : ExtraTreesRegressor(),\n",
    "    \"GradientBoosting\" : GradientBoostingRegressor(),\n",
    "    \"HistGradientBoosting\": HistGradientBoostingRegressor(),\n",
    "    \"Voting\": VotingRegressor(\n",
    "        [('etr', ExtraTreesRegressor()),\n",
    "         ('rf', RandomForestRegressor())]\n",
    "    )\n",
    "}"
   ]
  },
  {
   "cell_type": "code",
   "execution_count": 15,
   "metadata": {},
   "outputs": [
    {
     "name": "stdout",
     "output_type": "stream",
     "text": [
      "Entrenando DecisionTree\n",
      "Entrenando RandomForest\n",
      "Entrenando ExtraTrees\n",
      "Entrenando GradientBoosting\n",
      "Entrenando HistGradientBoosting\n",
      "Entrenando Voting\n",
      "Proceso terminado \n"
     ]
    }
   ],
   "source": [
    "for name, model in models.items():\n",
    "    print(f\"Entrenando {name}\")\n",
    "    model.fit(X_train, y_train)\n",
    "print(\"Proceso terminado \")"
   ]
  },
  {
   "cell_type": "code",
   "execution_count": 16,
   "metadata": {},
   "outputs": [
    {
     "name": "stdout",
     "output_type": "stream",
     "text": [
      "-------DecisionTree-------\n",
      "EVS 0.842\n",
      "ME 4750000.0\n",
      "MAE 91765.981\n",
      "RMSE 232381.32\n",
      "R2 0.842\n",
      "-------RandomForest-------\n",
      "EVS 0.916\n",
      "ME 3560490.0\n",
      "MAE 71040.149\n",
      "RMSE 169327.985\n",
      "R2 0.916\n",
      "-------ExtraTrees-------\n",
      "EVS 0.907\n",
      "ME 3652672.0\n",
      "MAE 74884.068\n",
      "RMSE 178385.91\n",
      "R2 0.907\n",
      "-------GradientBoosting-------\n",
      "EVS 0.891\n",
      "ME 3461441.829\n",
      "MAE 98437.625\n",
      "RMSE 192770.557\n",
      "R2 0.891\n",
      "-------HistGradientBoosting-------\n",
      "EVS 0.904\n",
      "ME 3256451.11\n",
      "MAE 84152.995\n",
      "RMSE 180762.29\n",
      "R2 0.904\n",
      "-------Voting-------\n",
      "EVS 0.918\n",
      "ME 3667806.0\n",
      "MAE 70079.549\n",
      "RMSE 167679.255\n",
      "R2 0.918\n"
     ]
    },
    {
     "data": {
      "image/png": "[encoded data removed]",
      "text/plain": [
       "<Figure size 432x288 with 1 Axes>"
      ]
     },
     "metadata": {
      "needs_background": "light"
     },
     "output_type": "display_data"
    },
    {
     "data": {
      "image/png": "[encoded data removed]",
      "text/plain": [
       "<Figure size 432x288 with 1 Axes>"
      ]
     },
     "metadata": {
      "needs_background": "light"
     },
     "output_type": "display_data"
    },
    {
     "data": {
      "image/png": "[encoded data removed]",
      "text/plain": [
       "<Figure size 432x288 with 1 Axes>"
      ]
     },
     "metadata": {
      "needs_background": "light"
     },
     "output_type": "display_data"
    },
    {
     "data": {
      "image/png": "[encoded data removed]",
      "text/plain": [
       "<Figure size 432x288 with 1 Axes>"
      ]
     },
     "metadata": {
      "needs_background": "light"
     },
     "output_type": "display_data"
    },
    {
     "data": {
      "image/png": "[encoded data removed]",
      "text/plain": [
       "<Figure size 432x288 with 1 Axes>"
      ]
     },
     "metadata": {
      "needs_background": "light"
     },
     "output_type": "display_data"
    },
    {
     "data": {
      "image/png": "[encoded data removed]",
      "text/plain": [
       "<Figure size 432x288 with 1 Axes>"
      ]
     },
     "metadata": {
      "needs_background": "light"
     },
     "output_type": "display_data"
    }
   ],
   "source": [
    "for name, model in models.items():\n",
    "    y_pred = model.predict(X_test)\n",
    "    print(f\"-------{name}-------\")\n",
    "    print(\"EVS\", round(explained_variance_score(y_test,y_pred),3))\n",
    "    print(\"ME\", round(max_error(y_test,y_pred),3))\n",
    "    print(\"MAE\", round(mean_absolute_error(y_test,y_pred),3))\n",
    "    print(\"RMSE\", round(np.sqrt(mean_squared_error(y_test,y_pred)),3))\n",
    "    print(\"R2\", round(r2_score(y_test,y_pred),3))\n",
    "    plt.pyplot.figure()\n",
    "    plt.pyplot.title(name)\n",
    "    plt.pyplot.scatter(y_test,y_pred)\n",
    "    plt.pyplot.plot([y_test.min(), y_test.max()], [y_pred.min(), y_pred.max()], 'k--', lw=2)"
   ]
  },
  {
   "cell_type": "code",
   "execution_count": 17,
   "metadata": {},
   "outputs": [
    {
     "name": "stdout",
     "output_type": "stream",
     "text": [
      "DecisionTree accuracy0.7107520308671967\n",
      "RandomForest accuracy0.8291739481830817\n",
      "ExtraTrees accuracy0.7976551424015325\n",
      "GradientBoosting accuracy0.7111767220520646\n",
      "HistGradientBoosting accuracy0.8370119638979316\n",
      "Voting accuracy0.8289652687209894\n"
     ]
    }
   ],
   "source": [
    "for name, model in models.items():\n",
    "    scores = cross_val_score(model,X,y, cv=10)\n",
    "    print(f\"{name} accuracy{np.mean(scores)}\")"
   ]
  },
  {
   "cell_type": "markdown",
   "metadata": {},
   "source": [
    "## ------------------------------  Prueba con otras features.  ------------------------------------------"
   ]
  },
  {
   "cell_type": "code",
   "execution_count": 18,
   "metadata": {},
   "outputs": [],
   "source": [
    "columnas = [col for col in data.columns if col not in [\"has_pool\",\"has_terrace\",\"has_balcony\",\"buy_price\"]]\n",
    "X = data[columnas]\n",
    "y = data[\"buy_price\"]"
   ]
  },
  {
   "cell_type": "code",
   "execution_count": 19,
   "metadata": {},
   "outputs": [],
   "source": [
    "from sklearn.model_selection import train_test_split\n",
    "\n",
    "X_train, X_test, y_train, y_test = train_test_split(X, y, test_size = 0.2, random_state=42)"
   ]
  },
  {
   "cell_type": "code",
   "execution_count": 20,
   "metadata": {},
   "outputs": [],
   "source": [
    "models = {\n",
    "    \"DecisionTree\" : DecisionTreeRegressor(),\n",
    "    \"RandomForest\": RandomForestRegressor(),\n",
    "    \"ExtraTrees\" : ExtraTreesRegressor(),\n",
    "    \"GradientBoosting\" : GradientBoostingRegressor(),\n",
    "    \"HistGradientBoosting\": HistGradientBoostingRegressor(),\n",
    "    \"Voting\": VotingRegressor(\n",
    "        [('etr', ExtraTreesRegressor()),\n",
    "         ('rf', RandomForestRegressor())]\n",
    "    )\n",
    "}"
   ]
  },
  {
   "cell_type": "code",
   "execution_count": 21,
   "metadata": {},
   "outputs": [
    {
     "name": "stdout",
     "output_type": "stream",
     "text": [
      "Entrenando DecisionTree\n",
      "Entrenando RandomForest\n",
      "Entrenando ExtraTrees\n",
      "Entrenando GradientBoosting\n",
      "Entrenando HistGradientBoosting\n",
      "Entrenando Voting\n",
      "Proceso terminado \n"
     ]
    }
   ],
   "source": [
    "for name, model in models.items():\n",
    "    print(f\"Entrenando {name}\")\n",
    "    model.fit(X_train, y_train)\n",
    "print(\"Proceso terminado \")"
   ]
  },
  {
   "cell_type": "code",
   "execution_count": 22,
   "metadata": {},
   "outputs": [
    {
     "name": "stdout",
     "output_type": "stream",
     "text": [
      "-------DecisionTree-------\n",
      "EVS 0.832\n",
      "ME 4750000.0\n",
      "MAE 92292.539\n",
      "RMSE 239257.398\n",
      "R2 0.832\n",
      "-------RandomForest-------\n",
      "EVS 0.916\n",
      "ME 3666200.0\n",
      "MAE 71583.194\n",
      "RMSE 169359.696\n",
      "R2 0.916\n",
      "-------ExtraTrees-------\n",
      "EVS 0.91\n",
      "ME 3713270.0\n",
      "MAE 73293.903\n",
      "RMSE 175527.582\n",
      "R2 0.91\n",
      "-------GradientBoosting-------\n",
      "EVS 0.891\n",
      "ME 3470854.496\n",
      "MAE 98936.867\n",
      "RMSE 192641.534\n",
      "R2 0.891\n",
      "-------HistGradientBoosting-------\n",
      "EVS 0.904\n",
      "ME 3222639.352\n",
      "MAE 85282.427\n",
      "RMSE 181332.585\n",
      "R2 0.904\n",
      "-------Voting-------\n",
      "EVS 0.916\n",
      "ME 3718851.0\n",
      "MAE 70509.403\n",
      "RMSE 169124.593\n",
      "R2 0.916\n"
     ]
    },
    {
     "data": {
      "image/png": "[encoded data removed]",
      "text/plain": [
       "<Figure size 432x288 with 1 Axes>"
      ]
     },
     "metadata": {
      "needs_background": "light"
     },
     "output_type": "display_data"
    },
    {
     "data": {
      "image/png": "[encoded data removed]",
      "text/plain": [
       "<Figure size 432x288 with 1 Axes>"
      ]
     },
     "metadata": {
      "needs_background": "light"
     },
     "output_type": "display_data"
    },
    {
     "data": {
      "image/png": "[encoded data removed]",
      "text/plain": [
       "<Figure size 432x288 with 1 Axes>"
      ]
     },
     "metadata": {
      "needs_background": "light"
     },
     "output_type": "display_data"
    },
    {
     "data": {
      "image/png": "[encoded data removed]",
      "text/plain": [
       "<Figure size 432x288 with 1 Axes>"
      ]
     },
     "metadata": {
      "needs_background": "light"
     },
     "output_type": "display_data"
    },
    {
     "data": {
      "image/png": "[encoded data removed]",
      "text/plain": [
       "<Figure size 432x288 with 1 Axes>"
      ]
     },
     "metadata": {
      "needs_background": "light"
     },
     "output_type": "display_data"
    },
    {
     "data": {
      "image/png": "[encoded data removed]",
      "text/plain": [
       "<Figure size 432x288 with 1 Axes>"
      ]
     },
     "metadata": {
      "needs_background": "light"
     },
     "output_type": "display_data"
    }
   ],
   "source": [
    "for name, model in models.items():\n",
    "    y_pred = model.predict(X_test)\n",
    "    print(f\"-------{name}-------\")\n",
    "    print(\"EVS\", round(explained_variance_score(y_test,y_pred),3))\n",
    "    print(\"ME\", round(max_error(y_test,y_pred),3))\n",
    "    print(\"MAE\", round(mean_absolute_error(y_test,y_pred),3))\n",
    "    print(\"RMSE\", round(np.sqrt(mean_squared_error(y_test,y_pred)),3))\n",
    "    print(\"R2\", round(r2_score(y_test,y_pred),3))\n",
    "    plt.pyplot.figure()\n",
    "    plt.pyplot.title(name)\n",
    "    plt.pyplot.scatter(y_test,y_pred)\n",
    "    plt.pyplot.plot([y_test.min(), y_test.max()], [y_pred.min(), y_pred.max()], 'k--', lw=2)"
   ]
  },
  {
   "cell_type": "code",
   "execution_count": 23,
   "metadata": {},
   "outputs": [
    {
     "name": "stdout",
     "output_type": "stream",
     "text": [
      "DecisionTree accuracy0.6618943403439833\n",
      "RandomForest accuracy0.825759397550007\n",
      "ExtraTrees accuracy0.8222953316155758\n",
      "GradientBoosting accuracy0.720604955778738\n",
      "HistGradientBoosting accuracy0.8327049748644848\n",
      "Voting accuracy0.836833666500924\n"
     ]
    }
   ],
   "source": [
    "for name, model in models.items():\n",
    "    scores = cross_val_score(model,X,y, cv=10)\n",
    "    print(f\"{name} accuracy{np.mean(scores)}\")"
   ]
  },
  {
   "cell_type": "markdown",
   "metadata": {},
   "source": [
    "## Pruebas eliminando viviendas con precios por encima de 1.200.000€"
   ]
  },
  {
   "cell_type": "code",
   "execution_count": 115,
   "metadata": {},
   "outputs": [],
   "source": [
    "data1 = pd.read_csv(\"../outputs/clean_houses.csv\")"
   ]
  },
  {
   "cell_type": "code",
   "execution_count": 116,
   "metadata": {},
   "outputs": [
    {
     "data": {
      "text/html": [
       "<div>\n",
       "<style scoped>\n",
       "    .dataframe tbody tr th:only-of-type {\n",
       "        vertical-align: middle;\n",
       "    }\n",
       "\n",
       "    .dataframe tbody tr th {\n",
       "        vertical-align: top;\n",
       "    }\n",
       "\n",
       "    .dataframe thead th {\n",
       "        text-align: right;\n",
       "    }\n",
       "</style>\n",
       "<table border=\"1\" class=\"dataframe\">\n",
       "  <thead>\n",
       "    <tr style=\"text-align: right;\">\n",
       "      <th></th>\n",
       "      <th>neighborhood_id</th>\n",
       "      <th>house_type_id</th>\n",
       "      <th>is_renewal_needed</th>\n",
       "      <th>is_new_development</th>\n",
       "      <th>sq_mt_built</th>\n",
       "      <th>n_rooms</th>\n",
       "      <th>n_bathrooms</th>\n",
       "      <th>floor</th>\n",
       "      <th>is_exterior</th>\n",
       "      <th>has_lift</th>\n",
       "      <th>has_parking</th>\n",
       "      <th>has_storage_room</th>\n",
       "      <th>has_terrace</th>\n",
       "      <th>has_balcony</th>\n",
       "      <th>has_pool</th>\n",
       "      <th>buy_price</th>\n",
       "      <th>buy_price_by_area</th>\n",
       "      <th>latitude</th>\n",
       "      <th>longitude</th>\n",
       "    </tr>\n",
       "    <tr>\n",
       "      <th>index</th>\n",
       "      <th></th>\n",
       "      <th></th>\n",
       "      <th></th>\n",
       "      <th></th>\n",
       "      <th></th>\n",
       "      <th></th>\n",
       "      <th></th>\n",
       "      <th></th>\n",
       "      <th></th>\n",
       "      <th></th>\n",
       "      <th></th>\n",
       "      <th></th>\n",
       "      <th></th>\n",
       "      <th></th>\n",
       "      <th></th>\n",
       "      <th></th>\n",
       "      <th></th>\n",
       "      <th></th>\n",
       "      <th></th>\n",
       "    </tr>\n",
       "  </thead>\n",
       "  <tbody>\n",
       "    <tr>\n",
       "      <th>0</th>\n",
       "      <td>San Cristóbal, Villaverde(Madrid)</td>\n",
       "      <td>HouseType 1: Pisos</td>\n",
       "      <td>False</td>\n",
       "      <td>False</td>\n",
       "      <td>64.0</td>\n",
       "      <td>2</td>\n",
       "      <td>1.0</td>\n",
       "      <td>3</td>\n",
       "      <td>True</td>\n",
       "      <td>False</td>\n",
       "      <td>False</td>\n",
       "      <td>False</td>\n",
       "      <td>False</td>\n",
       "      <td>False</td>\n",
       "      <td>False</td>\n",
       "      <td>85000</td>\n",
       "      <td>1328</td>\n",
       "      <td>40.343263</td>\n",
       "      <td>-3.688352</td>\n",
       "    </tr>\n",
       "    <tr>\n",
       "      <th>1</th>\n",
       "      <td>Los Ángeles, Villaverde(Madrid)</td>\n",
       "      <td>HouseType 1: Pisos</td>\n",
       "      <td>True</td>\n",
       "      <td>False</td>\n",
       "      <td>70.0</td>\n",
       "      <td>3</td>\n",
       "      <td>1.0</td>\n",
       "      <td>4</td>\n",
       "      <td>True</td>\n",
       "      <td>True</td>\n",
       "      <td>False</td>\n",
       "      <td>False</td>\n",
       "      <td>True</td>\n",
       "      <td>False</td>\n",
       "      <td>False</td>\n",
       "      <td>129900</td>\n",
       "      <td>1856</td>\n",
       "      <td>40.355109</td>\n",
       "      <td>-3.700105</td>\n",
       "    </tr>\n",
       "    <tr>\n",
       "      <th>2</th>\n",
       "      <td>San Andrés, Villaverde(Madrid)</td>\n",
       "      <td>HouseType 1: Pisos</td>\n",
       "      <td>False</td>\n",
       "      <td>False</td>\n",
       "      <td>94.0</td>\n",
       "      <td>2</td>\n",
       "      <td>2.0</td>\n",
       "      <td>1</td>\n",
       "      <td>True</td>\n",
       "      <td>True</td>\n",
       "      <td>False</td>\n",
       "      <td>True</td>\n",
       "      <td>False</td>\n",
       "      <td>False</td>\n",
       "      <td>False</td>\n",
       "      <td>144247</td>\n",
       "      <td>1535</td>\n",
       "      <td>40.345539</td>\n",
       "      <td>-3.710970</td>\n",
       "    </tr>\n",
       "    <tr>\n",
       "      <th>3</th>\n",
       "      <td>San Andrés, Villaverde(Madrid)</td>\n",
       "      <td>HouseType 1: Pisos</td>\n",
       "      <td>False</td>\n",
       "      <td>False</td>\n",
       "      <td>64.0</td>\n",
       "      <td>2</td>\n",
       "      <td>1.0</td>\n",
       "      <td>Bajo</td>\n",
       "      <td>True</td>\n",
       "      <td>True</td>\n",
       "      <td>False</td>\n",
       "      <td>True</td>\n",
       "      <td>False</td>\n",
       "      <td>False</td>\n",
       "      <td>False</td>\n",
       "      <td>109900</td>\n",
       "      <td>1717</td>\n",
       "      <td>40.345539</td>\n",
       "      <td>-3.710970</td>\n",
       "    </tr>\n",
       "    <tr>\n",
       "      <th>4</th>\n",
       "      <td>Los Rosales, Villaverde(Madrid)</td>\n",
       "      <td>HouseType 1: Pisos</td>\n",
       "      <td>False</td>\n",
       "      <td>False</td>\n",
       "      <td>108.0</td>\n",
       "      <td>2</td>\n",
       "      <td>2.0</td>\n",
       "      <td>4</td>\n",
       "      <td>True</td>\n",
       "      <td>True</td>\n",
       "      <td>True</td>\n",
       "      <td>True</td>\n",
       "      <td>False</td>\n",
       "      <td>False</td>\n",
       "      <td>True</td>\n",
       "      <td>260000</td>\n",
       "      <td>2407</td>\n",
       "      <td>40.355841</td>\n",
       "      <td>-3.688399</td>\n",
       "    </tr>\n",
       "  </tbody>\n",
       "</table>\n",
       "</div>"
      ],
      "text/plain": [
       "                         neighborhood_id       house_type_id  \\\n",
       "index                                                          \n",
       "0      San Cristóbal, Villaverde(Madrid)  HouseType 1: Pisos   \n",
       "1        Los Ángeles, Villaverde(Madrid)  HouseType 1: Pisos   \n",
       "2         San Andrés, Villaverde(Madrid)  HouseType 1: Pisos   \n",
       "3         San Andrés, Villaverde(Madrid)  HouseType 1: Pisos   \n",
       "4        Los Rosales, Villaverde(Madrid)  HouseType 1: Pisos   \n",
       "\n",
       "       is_renewal_needed  is_new_development  sq_mt_built  n_rooms  \\\n",
       "index                                                                \n",
       "0                  False               False         64.0        2   \n",
       "1                   True               False         70.0        3   \n",
       "2                  False               False         94.0        2   \n",
       "3                  False               False         64.0        2   \n",
       "4                  False               False        108.0        2   \n",
       "\n",
       "       n_bathrooms floor  is_exterior  has_lift  has_parking  \\\n",
       "index                                                          \n",
       "0              1.0     3         True     False        False   \n",
       "1              1.0     4         True      True        False   \n",
       "2              2.0     1         True      True        False   \n",
       "3              1.0  Bajo         True      True        False   \n",
       "4              2.0     4         True      True         True   \n",
       "\n",
       "       has_storage_room  has_terrace  has_balcony  has_pool  buy_price  \\\n",
       "index                                                                    \n",
       "0                 False        False        False     False      85000   \n",
       "1                 False         True        False     False     129900   \n",
       "2                  True        False        False     False     144247   \n",
       "3                  True        False        False     False     109900   \n",
       "4                  True        False        False      True     260000   \n",
       "\n",
       "       buy_price_by_area   latitude  longitude  \n",
       "index                                           \n",
       "0                   1328  40.343263  -3.688352  \n",
       "1                   1856  40.355109  -3.700105  \n",
       "2                   1535  40.345539  -3.710970  \n",
       "3                   1717  40.345539  -3.710970  \n",
       "4                   2407  40.355841  -3.688399  "
      ]
     },
     "execution_count": 116,
     "metadata": {},
     "output_type": "execute_result"
    }
   ],
   "source": [
    "data1.rename(columns={\"Unnamed: 0\":\"index\"},inplace=True)\n",
    "data1.set_index(\"index\", inplace=True)\n",
    "data1.head()"
   ]
  },
  {
   "cell_type": "code",
   "execution_count": 117,
   "metadata": {},
   "outputs": [
    {
     "data": {
      "text/plain": [
       "neighborhood_id       645\n",
       "house_type_id         645\n",
       "is_renewal_needed     645\n",
       "is_new_development    645\n",
       "sq_mt_built           645\n",
       "n_rooms               645\n",
       "n_bathrooms           645\n",
       "floor                 645\n",
       "is_exterior           645\n",
       "has_lift              645\n",
       "has_parking           645\n",
       "has_storage_room      645\n",
       "has_terrace           645\n",
       "has_balcony           645\n",
       "has_pool              645\n",
       "buy_price             645\n",
       "buy_price_by_area     645\n",
       "latitude              645\n",
       "longitude             645\n",
       "dtype: int64"
      ]
     },
     "execution_count": 117,
     "metadata": {},
     "output_type": "execute_result"
    }
   ],
   "source": [
    "data1[data1.buy_price>2000000].count()"
   ]
  },
  {
   "cell_type": "code",
   "execution_count": 118,
   "metadata": {},
   "outputs": [],
   "source": [
    "data1 = data1.drop(data1[data1[\"buy_price\"]>1200000].index)"
   ]
  },
  {
   "cell_type": "code",
   "execution_count": 119,
   "metadata": {},
   "outputs": [
    {
     "data": {
      "text/html": [
       "<div>\n",
       "<style scoped>\n",
       "    .dataframe tbody tr th:only-of-type {\n",
       "        vertical-align: middle;\n",
       "    }\n",
       "\n",
       "    .dataframe tbody tr th {\n",
       "        vertical-align: top;\n",
       "    }\n",
       "\n",
       "    .dataframe thead th {\n",
       "        text-align: right;\n",
       "    }\n",
       "</style>\n",
       "<table border=\"1\" class=\"dataframe\">\n",
       "  <thead>\n",
       "    <tr style=\"text-align: right;\">\n",
       "      <th></th>\n",
       "      <th>neighborhood_id</th>\n",
       "      <th>house_type_id</th>\n",
       "      <th>is_renewal_needed</th>\n",
       "      <th>is_new_development</th>\n",
       "      <th>sq_mt_built</th>\n",
       "      <th>n_rooms</th>\n",
       "      <th>n_bathrooms</th>\n",
       "      <th>floor</th>\n",
       "      <th>is_exterior</th>\n",
       "      <th>has_lift</th>\n",
       "      <th>has_parking</th>\n",
       "      <th>has_storage_room</th>\n",
       "      <th>has_terrace</th>\n",
       "      <th>has_balcony</th>\n",
       "      <th>has_pool</th>\n",
       "      <th>buy_price</th>\n",
       "      <th>buy_price_by_area</th>\n",
       "      <th>latitude</th>\n",
       "      <th>longitude</th>\n",
       "    </tr>\n",
       "    <tr>\n",
       "      <th>index</th>\n",
       "      <th></th>\n",
       "      <th></th>\n",
       "      <th></th>\n",
       "      <th></th>\n",
       "      <th></th>\n",
       "      <th></th>\n",
       "      <th></th>\n",
       "      <th></th>\n",
       "      <th></th>\n",
       "      <th></th>\n",
       "      <th></th>\n",
       "      <th></th>\n",
       "      <th></th>\n",
       "      <th></th>\n",
       "      <th></th>\n",
       "      <th></th>\n",
       "      <th></th>\n",
       "      <th></th>\n",
       "      <th></th>\n",
       "    </tr>\n",
       "  </thead>\n",
       "  <tbody>\n",
       "    <tr>\n",
       "      <th>0</th>\n",
       "      <td>San Cristóbal, Villaverde(Madrid)</td>\n",
       "      <td>HouseType 1: Pisos</td>\n",
       "      <td>False</td>\n",
       "      <td>False</td>\n",
       "      <td>64.0</td>\n",
       "      <td>2</td>\n",
       "      <td>1.0</td>\n",
       "      <td>3</td>\n",
       "      <td>True</td>\n",
       "      <td>False</td>\n",
       "      <td>False</td>\n",
       "      <td>False</td>\n",
       "      <td>False</td>\n",
       "      <td>False</td>\n",
       "      <td>False</td>\n",
       "      <td>85000</td>\n",
       "      <td>1328</td>\n",
       "      <td>40.343263</td>\n",
       "      <td>-3.688352</td>\n",
       "    </tr>\n",
       "    <tr>\n",
       "      <th>1</th>\n",
       "      <td>Los Ángeles, Villaverde(Madrid)</td>\n",
       "      <td>HouseType 1: Pisos</td>\n",
       "      <td>True</td>\n",
       "      <td>False</td>\n",
       "      <td>70.0</td>\n",
       "      <td>3</td>\n",
       "      <td>1.0</td>\n",
       "      <td>4</td>\n",
       "      <td>True</td>\n",
       "      <td>True</td>\n",
       "      <td>False</td>\n",
       "      <td>False</td>\n",
       "      <td>True</td>\n",
       "      <td>False</td>\n",
       "      <td>False</td>\n",
       "      <td>129900</td>\n",
       "      <td>1856</td>\n",
       "      <td>40.355109</td>\n",
       "      <td>-3.700105</td>\n",
       "    </tr>\n",
       "    <tr>\n",
       "      <th>2</th>\n",
       "      <td>San Andrés, Villaverde(Madrid)</td>\n",
       "      <td>HouseType 1: Pisos</td>\n",
       "      <td>False</td>\n",
       "      <td>False</td>\n",
       "      <td>94.0</td>\n",
       "      <td>2</td>\n",
       "      <td>2.0</td>\n",
       "      <td>1</td>\n",
       "      <td>True</td>\n",
       "      <td>True</td>\n",
       "      <td>False</td>\n",
       "      <td>True</td>\n",
       "      <td>False</td>\n",
       "      <td>False</td>\n",
       "      <td>False</td>\n",
       "      <td>144247</td>\n",
       "      <td>1535</td>\n",
       "      <td>40.345539</td>\n",
       "      <td>-3.710970</td>\n",
       "    </tr>\n",
       "    <tr>\n",
       "      <th>3</th>\n",
       "      <td>San Andrés, Villaverde(Madrid)</td>\n",
       "      <td>HouseType 1: Pisos</td>\n",
       "      <td>False</td>\n",
       "      <td>False</td>\n",
       "      <td>64.0</td>\n",
       "      <td>2</td>\n",
       "      <td>1.0</td>\n",
       "      <td>Bajo</td>\n",
       "      <td>True</td>\n",
       "      <td>True</td>\n",
       "      <td>False</td>\n",
       "      <td>True</td>\n",
       "      <td>False</td>\n",
       "      <td>False</td>\n",
       "      <td>False</td>\n",
       "      <td>109900</td>\n",
       "      <td>1717</td>\n",
       "      <td>40.345539</td>\n",
       "      <td>-3.710970</td>\n",
       "    </tr>\n",
       "    <tr>\n",
       "      <th>4</th>\n",
       "      <td>Los Rosales, Villaverde(Madrid)</td>\n",
       "      <td>HouseType 1: Pisos</td>\n",
       "      <td>False</td>\n",
       "      <td>False</td>\n",
       "      <td>108.0</td>\n",
       "      <td>2</td>\n",
       "      <td>2.0</td>\n",
       "      <td>4</td>\n",
       "      <td>True</td>\n",
       "      <td>True</td>\n",
       "      <td>True</td>\n",
       "      <td>True</td>\n",
       "      <td>False</td>\n",
       "      <td>False</td>\n",
       "      <td>True</td>\n",
       "      <td>260000</td>\n",
       "      <td>2407</td>\n",
       "      <td>40.355841</td>\n",
       "      <td>-3.688399</td>\n",
       "    </tr>\n",
       "    <tr>\n",
       "      <th>...</th>\n",
       "      <td>...</td>\n",
       "      <td>...</td>\n",
       "      <td>...</td>\n",
       "      <td>...</td>\n",
       "      <td>...</td>\n",
       "      <td>...</td>\n",
       "      <td>...</td>\n",
       "      <td>...</td>\n",
       "      <td>...</td>\n",
       "      <td>...</td>\n",
       "      <td>...</td>\n",
       "      <td>...</td>\n",
       "      <td>...</td>\n",
       "      <td>...</td>\n",
       "      <td>...</td>\n",
       "      <td>...</td>\n",
       "      <td>...</td>\n",
       "      <td>...</td>\n",
       "      <td>...</td>\n",
       "    </tr>\n",
       "    <tr>\n",
       "      <th>17393</th>\n",
       "      <td>Campo de las Naciones-Corralejos, Barajas(Madrid)</td>\n",
       "      <td>HouseType 1: Pisos</td>\n",
       "      <td>False</td>\n",
       "      <td>False</td>\n",
       "      <td>88.0</td>\n",
       "      <td>2</td>\n",
       "      <td>2.0</td>\n",
       "      <td>1</td>\n",
       "      <td>True</td>\n",
       "      <td>True</td>\n",
       "      <td>True</td>\n",
       "      <td>True</td>\n",
       "      <td>False</td>\n",
       "      <td>False</td>\n",
       "      <td>True</td>\n",
       "      <td>360000</td>\n",
       "      <td>4420</td>\n",
       "      <td>40.459749</td>\n",
       "      <td>-3.612738</td>\n",
       "    </tr>\n",
       "    <tr>\n",
       "      <th>17394</th>\n",
       "      <td>Campo de las Naciones-Corralejos, Barajas(Madrid)</td>\n",
       "      <td>HouseType 1: Pisos</td>\n",
       "      <td>False</td>\n",
       "      <td>False</td>\n",
       "      <td>99.0</td>\n",
       "      <td>2</td>\n",
       "      <td>2.0</td>\n",
       "      <td>1</td>\n",
       "      <td>True</td>\n",
       "      <td>True</td>\n",
       "      <td>True</td>\n",
       "      <td>True</td>\n",
       "      <td>False</td>\n",
       "      <td>False</td>\n",
       "      <td>True</td>\n",
       "      <td>349000</td>\n",
       "      <td>3525</td>\n",
       "      <td>40.459749</td>\n",
       "      <td>-3.612738</td>\n",
       "    </tr>\n",
       "    <tr>\n",
       "      <th>17395</th>\n",
       "      <td>Casco Histórico de Barajas, Barajas(Madrid)</td>\n",
       "      <td>HouseType 5: Áticos</td>\n",
       "      <td>False</td>\n",
       "      <td>False</td>\n",
       "      <td>78.0</td>\n",
       "      <td>2</td>\n",
       "      <td>2.0</td>\n",
       "      <td>4</td>\n",
       "      <td>True</td>\n",
       "      <td>True</td>\n",
       "      <td>True</td>\n",
       "      <td>True</td>\n",
       "      <td>False</td>\n",
       "      <td>False</td>\n",
       "      <td>False</td>\n",
       "      <td>350000</td>\n",
       "      <td>4487</td>\n",
       "      <td>40.479840</td>\n",
       "      <td>-3.580251</td>\n",
       "    </tr>\n",
       "    <tr>\n",
       "      <th>17396</th>\n",
       "      <td>Campo de las Naciones-Corralejos, Barajas(Madrid)</td>\n",
       "      <td>HouseType 1: Pisos</td>\n",
       "      <td>False</td>\n",
       "      <td>False</td>\n",
       "      <td>96.0</td>\n",
       "      <td>2</td>\n",
       "      <td>2.0</td>\n",
       "      <td>3</td>\n",
       "      <td>True</td>\n",
       "      <td>True</td>\n",
       "      <td>True</td>\n",
       "      <td>True</td>\n",
       "      <td>False</td>\n",
       "      <td>False</td>\n",
       "      <td>True</td>\n",
       "      <td>425000</td>\n",
       "      <td>4427</td>\n",
       "      <td>40.459749</td>\n",
       "      <td>-3.612738</td>\n",
       "    </tr>\n",
       "    <tr>\n",
       "      <th>17397</th>\n",
       "      <td>Campo de las Naciones-Corralejos, Barajas(Madrid)</td>\n",
       "      <td>HouseType 1: Pisos</td>\n",
       "      <td>False</td>\n",
       "      <td>False</td>\n",
       "      <td>175.0</td>\n",
       "      <td>4</td>\n",
       "      <td>2.0</td>\n",
       "      <td>Bajo</td>\n",
       "      <td>True</td>\n",
       "      <td>False</td>\n",
       "      <td>True</td>\n",
       "      <td>True</td>\n",
       "      <td>True</td>\n",
       "      <td>False</td>\n",
       "      <td>True</td>\n",
       "      <td>680000</td>\n",
       "      <td>3886</td>\n",
       "      <td>40.459749</td>\n",
       "      <td>-3.612738</td>\n",
       "    </tr>\n",
       "  </tbody>\n",
       "</table>\n",
       "<p>15624 rows × 19 columns</p>\n",
       "</div>"
      ],
      "text/plain": [
       "                                         neighborhood_id        house_type_id  \\\n",
       "index                                                                           \n",
       "0                      San Cristóbal, Villaverde(Madrid)   HouseType 1: Pisos   \n",
       "1                        Los Ángeles, Villaverde(Madrid)   HouseType 1: Pisos   \n",
       "2                         San Andrés, Villaverde(Madrid)   HouseType 1: Pisos   \n",
       "3                         San Andrés, Villaverde(Madrid)   HouseType 1: Pisos   \n",
       "4                        Los Rosales, Villaverde(Madrid)   HouseType 1: Pisos   \n",
       "...                                                  ...                  ...   \n",
       "17393  Campo de las Naciones-Corralejos, Barajas(Madrid)   HouseType 1: Pisos   \n",
       "17394  Campo de las Naciones-Corralejos, Barajas(Madrid)   HouseType 1: Pisos   \n",
       "17395        Casco Histórico de Barajas, Barajas(Madrid)  HouseType 5: Áticos   \n",
       "17396  Campo de las Naciones-Corralejos, Barajas(Madrid)   HouseType 1: Pisos   \n",
       "17397  Campo de las Naciones-Corralejos, Barajas(Madrid)   HouseType 1: Pisos   \n",
       "\n",
       "       is_renewal_needed  is_new_development  sq_mt_built  n_rooms  \\\n",
       "index                                                                \n",
       "0                  False               False         64.0        2   \n",
       "1                   True               False         70.0        3   \n",
       "2                  False               False         94.0        2   \n",
       "3                  False               False         64.0        2   \n",
       "4                  False               False        108.0        2   \n",
       "...                  ...                 ...          ...      ...   \n",
       "17393              False               False         88.0        2   \n",
       "17394              False               False         99.0        2   \n",
       "17395              False               False         78.0        2   \n",
       "17396              False               False         96.0        2   \n",
       "17397              False               False        175.0        4   \n",
       "\n",
       "       n_bathrooms floor  is_exterior  has_lift  has_parking  \\\n",
       "index                                                          \n",
       "0              1.0     3         True     False        False   \n",
       "1              1.0     4         True      True        False   \n",
       "2              2.0     1         True      True        False   \n",
       "3              1.0  Bajo         True      True        False   \n",
       "4              2.0     4         True      True         True   \n",
       "...            ...   ...          ...       ...          ...   \n",
       "17393          2.0     1         True      True         True   \n",
       "17394          2.0     1         True      True         True   \n",
       "17395          2.0     4         True      True         True   \n",
       "17396          2.0     3         True      True         True   \n",
       "17397          2.0  Bajo         True     False         True   \n",
       "\n",
       "       has_storage_room  has_terrace  has_balcony  has_pool  buy_price  \\\n",
       "index                                                                    \n",
       "0                 False        False        False     False      85000   \n",
       "1                 False         True        False     False     129900   \n",
       "2                  True        False        False     False     144247   \n",
       "3                  True        False        False     False     109900   \n",
       "4                  True        False        False      True     260000   \n",
       "...                 ...          ...          ...       ...        ...   \n",
       "17393              True        False        False      True     360000   \n",
       "17394              True        False        False      True     349000   \n",
       "17395              True        False        False     False     350000   \n",
       "17396              True        False        False      True     425000   \n",
       "17397              True         True        False      True     680000   \n",
       "\n",
       "       buy_price_by_area   latitude  longitude  \n",
       "index                                           \n",
       "0                   1328  40.343263  -3.688352  \n",
       "1                   1856  40.355109  -3.700105  \n",
       "2                   1535  40.345539  -3.710970  \n",
       "3                   1717  40.345539  -3.710970  \n",
       "4                   2407  40.355841  -3.688399  \n",
       "...                  ...        ...        ...  \n",
       "17393               4420  40.459749  -3.612738  \n",
       "17394               3525  40.459749  -3.612738  \n",
       "17395               4487  40.479840  -3.580251  \n",
       "17396               4427  40.459749  -3.612738  \n",
       "17397               3886  40.459749  -3.612738  \n",
       "\n",
       "[15624 rows x 19 columns]"
      ]
     },
     "execution_count": 119,
     "metadata": {},
     "output_type": "execute_result"
    }
   ],
   "source": [
    "data1"
   ]
  },
  {
   "cell_type": "code",
   "execution_count": 120,
   "metadata": {},
   "outputs": [],
   "source": [
    "def transf(column):\n",
    "\n",
    "    le = preprocessing.LabelEncoder()\n",
    "    data1[column] = le.fit_transform(data1[column])\n",
    "    return data1[column]"
   ]
  },
  {
   "cell_type": "code",
   "execution_count": 121,
   "metadata": {},
   "outputs": [
    {
     "data": {
      "text/plain": [
       "index\n",
       "0        0\n",
       "1        0\n",
       "2        0\n",
       "3        0\n",
       "4        1\n",
       "        ..\n",
       "17393    1\n",
       "17394    1\n",
       "17395    0\n",
       "17396    1\n",
       "17397    1\n",
       "Name: has_pool, Length: 15624, dtype: int64"
      ]
     },
     "execution_count": 121,
     "metadata": {},
     "output_type": "execute_result"
    }
   ],
   "source": [
    "transf(\"house_type_id\")\n",
    "transf(\"is_renewal_needed\")\n",
    "transf(\"is_new_development\")\n",
    "transf(\"is_exterior\")\n",
    "transf(\"has_lift\")\n",
    "transf(\"has_parking\")\n",
    "transf(\"has_storage_room\")\n",
    "transf(\"has_terrace\")\n",
    "transf(\"has_balcony\")\n",
    "transf(\"has_pool\")"
   ]
  },
  {
   "cell_type": "code",
   "execution_count": 122,
   "metadata": {},
   "outputs": [],
   "source": [
    "# Aplicamos ahora get_dummies a la columna floor.\n",
    "\n",
    "data1 = pd.get_dummies(data1, columns = [\"floor\"])"
   ]
  },
  {
   "cell_type": "code",
   "execution_count": 123,
   "metadata": {},
   "outputs": [
    {
     "data": {
      "text/plain": [
       "Index(['neighborhood_id', 'house_type_id', 'is_renewal_needed',\n",
       "       'is_new_development', 'sq_mt_built', 'n_rooms', 'n_bathrooms',\n",
       "       'is_exterior', 'has_lift', 'has_parking', 'has_storage_room',\n",
       "       'has_terrace', 'has_balcony', 'has_pool', 'buy_price',\n",
       "       'buy_price_by_area', 'latitude', 'longitude', 'floor_1', 'floor_2',\n",
       "       'floor_3', 'floor_4', 'floor_5', 'floor_6', 'floor_7', 'floor_8',\n",
       "       'floor_9', 'floor_Bajo', 'floor_Entreplanta exterior',\n",
       "       'floor_Entreplanta interior', 'floor_Semi-sótano exterior',\n",
       "       'floor_Semi-sótano interior', 'floor_Sótano exterior',\n",
       "       'floor_Sótano interior'],\n",
       "      dtype='object')"
      ]
     },
     "execution_count": 123,
     "metadata": {},
     "output_type": "execute_result"
    }
   ],
   "source": [
    "data1.columns"
   ]
  },
  {
   "cell_type": "code",
   "execution_count": 125,
   "metadata": {},
   "outputs": [],
   "source": [
    "data1 = data1[['latitude', 'longitude', 'house_type_id', 'is_renewal_needed',\n",
    "       'is_new_development', 'sq_mt_built', 'n_rooms', 'n_bathrooms',\n",
    "       'is_exterior', 'has_lift', 'has_parking', 'has_storage_room',\n",
    "       'has_terrace', 'has_balcony', 'has_pool',\n",
    "       'buy_price_by_area', 'floor_1', 'floor_2',\n",
    "       'floor_3', 'floor_4', 'floor_5', 'floor_6', 'floor_7', 'floor_8',\n",
    "       'floor_9', 'floor_Bajo', 'floor_Entreplanta exterior',\n",
    "       'floor_Entreplanta interior', 'floor_Semi-sótano exterior',\n",
    "       'floor_Semi-sótano interior', 'floor_Sótano exterior',\n",
    "       'floor_Sótano interior', 'buy_price']]"
   ]
  },
  {
   "cell_type": "code",
   "execution_count": 126,
   "metadata": {},
   "outputs": [],
   "source": [
    "columnas = [col for col in data1.columns if col not in [\"buy_price\"]]\n",
    "X = data1[columnas]\n",
    "y = data1[\"buy_price\"]"
   ]
  },
  {
   "cell_type": "code",
   "execution_count": 127,
   "metadata": {},
   "outputs": [],
   "source": [
    "from sklearn.model_selection import train_test_split\n",
    "\n",
    "X_train, X_test, y_train, y_test = train_test_split(X, y, test_size = 0.2, random_state=42)"
   ]
  },
  {
   "cell_type": "code",
   "execution_count": 128,
   "metadata": {},
   "outputs": [],
   "source": [
    "models = {\n",
    "    \"DecisionTree\" : DecisionTreeRegressor(),\n",
    "    \"RandomForest\": RandomForestRegressor(),\n",
    "    \"ExtraTrees\" : ExtraTreesRegressor(),\n",
    "    \"GradientBoosting\" : GradientBoostingRegressor(),\n",
    "    \"HistGradientBoosting\": HistGradientBoostingRegressor(),\n",
    "    \"Voting\": VotingRegressor(\n",
    "        [('etr', ExtraTreesRegressor()),\n",
    "         ('rf', RandomForestRegressor())]\n",
    "    )\n",
    "}"
   ]
  },
  {
   "cell_type": "code",
   "execution_count": 129,
   "metadata": {},
   "outputs": [
    {
     "name": "stdout",
     "output_type": "stream",
     "text": [
      "Entrenando DecisionTree\n",
      "Entrenando RandomForest\n",
      "Entrenando ExtraTrees\n",
      "Entrenando GradientBoosting\n",
      "Entrenando HistGradientBoosting\n",
      "Entrenando Voting\n",
      "Proceso terminado \n"
     ]
    }
   ],
   "source": [
    "for name, model in models.items():\n",
    "    print(f\"Entrenando {name}\")\n",
    "    model.fit(X_train, y_train)\n",
    "print(\"Proceso terminado \")"
   ]
  },
  {
   "cell_type": "code",
   "execution_count": 130,
   "metadata": {},
   "outputs": [
    {
     "name": "stdout",
     "output_type": "stream",
     "text": [
      "-------DecisionTree-------\n",
      "EVS 0.998\n",
      "ME 125000.0\n",
      "MAE 5280.002\n",
      "RMSE 11183.503\n",
      "R2 0.998\n",
      "-------RandomForest-------\n",
      "EVS 1.0\n",
      "ME 132981.0\n",
      "MAE 2436.204\n",
      "RMSE 5799.825\n",
      "R2 1.0\n",
      "-------ExtraTrees-------\n",
      "EVS 0.999\n",
      "ME 107358.89\n",
      "MAE 3170.66\n",
      "RMSE 7602.954\n",
      "R2 0.999\n",
      "-------GradientBoosting-------\n",
      "EVS 0.997\n",
      "ME 95665.49\n",
      "MAE 10062.466\n",
      "RMSE 14603.351\n",
      "R2 0.997\n",
      "-------HistGradientBoosting-------\n",
      "EVS 0.998\n",
      "ME 181165.803\n",
      "MAE 5927.272\n",
      "RMSE 10680.134\n",
      "R2 0.998\n",
      "-------Voting-------\n",
      "EVS 0.999\n",
      "ME 105025.5\n",
      "MAE 2440.773\n",
      "RMSE 5944.757\n",
      "R2 0.999\n"
     ]
    },
    {
     "data": {
      "image/png": "[encoded data removed]",
      "text/plain": [
       "<Figure size 432x288 with 1 Axes>"
      ]
     },
     "metadata": {
      "needs_background": "light"
     },
     "output_type": "display_data"
    },
    {
     "data": {
      "image/png": "[encoded data removed]",
      "text/plain": [
       "<Figure size 432x288 with 1 Axes>"
      ]
     },
     "metadata": {
      "needs_background": "light"
     },
     "output_type": "display_data"
    },
    {
     "data": {
      "image/png": "[encoded data removed]",
      "text/plain": [
       "<Figure size 432x288 with 1 Axes>"
      ]
     },
     "metadata": {
      "needs_background": "light"
     },
     "output_type": "display_data"
    },
    {
     "data": {
      "image/png": "[encoded data removed]",
      "text/plain": [
       "<Figure size 432x288 with 1 Axes>"
      ]
     },
     "metadata": {
      "needs_background": "light"
     },
     "output_type": "display_data"
    },
    {
     "data": {
      "image/png": "[encoded data removed]",
      "text/plain": [
       "<Figure size 432x288 with 1 Axes>"
      ]
     },
     "metadata": {
      "needs_background": "light"
     },
     "output_type": "display_data"
    },
    {
     "data": {
      "image/png": "[encoded data removed]",
      "text/plain": [
       "<Figure size 432x288 with 1 Axes>"
      ]
     },
     "metadata": {
      "needs_background": "light"
     },
     "output_type": "display_data"
    }
   ],
   "source": [
    "for name, model in models.items():\n",
    "    y_pred = model.predict(X_test)\n",
    "    print(f\"-------{name}-------\")\n",
    "    print(\"EVS\", round(explained_variance_score(y_test,y_pred),3))\n",
    "    print(\"ME\", round(max_error(y_test,y_pred),3))\n",
    "    print(\"MAE\", round(mean_absolute_error(y_test,y_pred),3))\n",
    "    print(\"RMSE\", round(np.sqrt(mean_squared_error(y_test,y_pred)),3))\n",
    "    print(\"R2\", round(r2_score(y_test,y_pred),3))\n",
    "    plt.pyplot.figure()\n",
    "    plt.pyplot.title(name)\n",
    "    plt.pyplot.scatter(y_test,y_pred)\n",
    "    plt.pyplot.plot([y_test.min(), y_test.max()], [y_pred.min(), y_pred.max()], 'k--', lw=2)"
   ]
  },
  {
   "cell_type": "code",
   "execution_count": null,
   "metadata": {},
   "outputs": [
    {
     "name": "stdout",
     "output_type": "stream",
     "text": [
      "DecisionTree accuracy0.9959693063769534\n",
      "RandomForest accuracy0.9985313233151608\n",
      "ExtraTrees accuracy0.9959115563364831\n",
      "GradientBoosting accuracy0.9945560051129819\n",
      "HistGradientBoosting accuracy0.9969396782767065\n"
     ]
    }
   ],
   "source": [
    "for name, model in models.items():\n",
    "    scores = cross_val_score(model,X,y, cv=10)\n",
    "    print(f\"{name} accuracy{np.mean(scores)}\")"
   ]
  },
  {
   "cell_type": "code",
   "execution_count": null,
   "metadata": {},
   "outputs": [],
   "source": []
  },
  {
   "cell_type": "code",
   "execution_count": null,
   "metadata": {},
   "outputs": [],
   "source": []
  },
  {
   "cell_type": "code",
   "execution_count": null,
   "metadata": {},
   "outputs": [],
   "source": []
  }
 ],
 "metadata": {
  "kernelspec": {
   "display_name": "Python 3",
   "language": "python",
   "name": "python3"
  },
  "language_info": {
   "codemirror_mode": {
    "name": "ipython",
    "version": 3
   },
   "file_extension": ".py",
   "mimetype": "text/x-python",
   "name": "python",
   "nbconvert_exporter": "python",
   "pygments_lexer": "ipython3",
   "version": "3.8.3"
  }
 },
 "nbformat": 4,
 "nbformat_minor": 4
}
