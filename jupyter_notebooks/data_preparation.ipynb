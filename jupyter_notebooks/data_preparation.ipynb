{
 "cells": [
  {
   "cell_type": "code",
   "execution_count": 3,
   "metadata": {},
   "outputs": [],
   "source": [
    "import pandas as pd\n",
    "import numpy as np\n",
    "from sklearn import preprocessing\n",
    "import matplotlib.pyplot as plt\n",
    "import seaborn as sns\n",
    "%matplotlib inline"
   ]
  },
  {
   "cell_type": "code",
   "execution_count": null,
   "metadata": {},
   "outputs": [],
   "source": [
    "data = pd.read_csv(\"../outputs/clean_houses.csv\")"
   ]
  },
  {
   "cell_type": "code",
   "execution_count": null,
   "metadata": {
    "scrolled": true
   },
   "outputs": [],
   "source": [
    "data.rename(columns={\"Unnamed: 0\":\"index\"},inplace=True)\n",
    "data.head()"
   ]
  },
  {
   "cell_type": "code",
   "execution_count": null,
   "metadata": {},
   "outputs": [],
   "source": [
    "# Para realizar nuestra predicción necesitamos que todos nuestros datos sean numéricos.\n",
    "# Vamos a comprobar por tanto que tipos de datos tenemos.\n",
    "\n",
    "data.info()"
   ]
  },
  {
   "cell_type": "code",
   "execution_count": null,
   "metadata": {},
   "outputs": [],
   "source": [
    "carac = pd.DataFrame(data.buy_price.describe())\n",
    "\n",
    "carac"
   ]
  },
  {
   "cell_type": "code",
   "execution_count": null,
   "metadata": {},
   "outputs": [],
   "source": [
    "def transf(column):\n",
    "\n",
    "    le = preprocessing.LabelEncoder()\n",
    "    data[column] = le.fit_transform(data[column])\n",
    "    return data[column]"
   ]
  },
  {
   "cell_type": "code",
   "execution_count": null,
   "metadata": {},
   "outputs": [],
   "source": [
    "# Transformamos ahora todas las columnas type object y bool a float64, excepto floor.\n",
    "\n",
    "transf(\"house_type_id\")\n",
    "transf(\"is_renewal_needed\")\n",
    "transf(\"is_new_development\")\n",
    "transf(\"is_exterior\")\n",
    "transf(\"has_lift\")\n",
    "transf(\"has_parking\")\n",
    "transf(\"has_storage_room\")\n",
    "transf(\"has_terrace\")\n",
    "transf(\"has_balcony\")\n",
    "transf(\"has_pool\")"
   ]
  },
  {
   "cell_type": "code",
   "execution_count": null,
   "metadata": {},
   "outputs": [],
   "source": [
    "# Aplicamos ahora get_dummies a la columna floor.\n",
    "\n",
    "data = pd.get_dummies(data, columns = [\"floor\"])"
   ]
  },
  {
   "cell_type": "code",
   "execution_count": null,
   "metadata": {},
   "outputs": [],
   "source": [
    "data.columns"
   ]
  },
  {
   "cell_type": "code",
   "execution_count": null,
   "metadata": {},
   "outputs": [],
   "source": [
    "# Vamos a ordenar ahora las columnas y nos deshacemos de la columna neighborhood.\n",
    "\n",
    "data = data[['index', 'house_type_id', 'is_renewal_needed',\n",
    "        'is_new_development', 'sq_mt_built', 'n_rooms', 'n_bathrooms',\n",
    "        'is_exterior', 'has_lift', 'has_parking', 'has_storage_room',\n",
    "        'has_terrace', 'has_balcony', 'has_pool',\n",
    "        'latitude', 'longitude', 'floor_1', 'floor_2',\n",
    "        'floor_3', 'floor_4', 'floor_5', 'floor_6', 'floor_7', 'floor_8',\n",
    "        'floor_9', 'floor_Bajo', 'floor_Entreplanta exterior',\n",
    "        'floor_Entreplanta interior', 'floor_Semi-sótano exterior',\n",
    "        'floor_Semi-sótano interior', 'floor_Sótano exterior',\n",
    "        'floor_Sótano interior', 'buy_price']]"
   ]
  },
  {
   "cell_type": "code",
   "execution_count": null,
   "metadata": {},
   "outputs": [],
   "source": [
    "data.set_index(\"index\", inplace=True)\n",
    "data.head()"
   ]
  },
  {
   "cell_type": "code",
   "execution_count": null,
   "metadata": {},
   "outputs": [],
   "source": [
    "# Vamos a realizar un análisis de los datos, como tenemos muchas columnas, vamos a dividir el data frame\n",
    "# en varios dataframes para compararlos con nuestro groundtruth y ver así que relación tienen."
   ]
  },
  {
   "cell_type": "code",
   "execution_count": null,
   "metadata": {},
   "outputs": [],
   "source": []
  },
  {
   "cell_type": "code",
   "execution_count": null,
   "metadata": {},
   "outputs": [],
   "source": [
    "# Heatmap.\n",
    "\n",
    "cm = np.corrcoef(data.values.T)\n",
    "sns.set(font_scale=1)\n",
    "plt.figure(figsize=(20, 20))\n",
    "hm = sns.heatmap(cm,\n",
    "                cbar=True,\n",
    "                annot=True,\n",
    "                square=True,\n",
    "                fmt='.2f',\n",
    "                annot_kws={'size': 10},\n",
    "                yticklabels=data.columns,\n",
    "                xticklabels=data.columns)        "
   ]
  },
  {
   "cell_type": "code",
   "execution_count": null,
   "metadata": {},
   "outputs": [],
   "source": [
    "# Calculate and show pairplot\n",
    "\n",
    "d_analysis1 = data[[\"house_type_id\", \"is_renewal_needed\", \"is_new_development\",\"sq_mt_built\", \"n_rooms\",\n",
    "                    \"n_bathrooms\", 'buy_price']]\n",
    "\n",
    "sns.pairplot(data, size=2.5, vars=d_analysis1)\n",
    "plt.tight_layout()"
   ]
  },
  {
   "cell_type": "code",
   "execution_count": null,
   "metadata": {},
   "outputs": [],
   "source": [
    "d_analysis2 = data[[\"is_exterior\", \"has_lift\", 'has_parking', 'has_storage_room', 'has_terrace', \n",
    "                    'has_balcony', 'buy_price']]\n",
    "\n",
    "sns.pairplot(data, size=2.5, vars=d_analysis2)\n",
    "plt.tight_layout()"
   ]
  },
  {
   "cell_type": "code",
   "execution_count": null,
   "metadata": {},
   "outputs": [],
   "source": [
    "d_analysis3 = data[['has_pool', 'latitude', 'longitude', 'floor_1', 'floor_2','floor_3', 'buy_price']]\n",
    "\n",
    "sns.pairplot(data, size=2.5, vars=d_analysis3)\n",
    "plt.tight_layout()"
   ]
  },
  {
   "cell_type": "code",
   "execution_count": null,
   "metadata": {},
   "outputs": [],
   "source": [
    "d_analysis4 = data[['floor_4', 'floor_5', 'floor_6', 'floor_7', 'floor_8','floor_9', 'buy_price']]\n",
    "\n",
    "sns.pairplot(data, size=2.5, vars=d_analysis4)\n",
    "plt.tight_layout()"
   ]
  },
  {
   "cell_type": "code",
   "execution_count": null,
   "metadata": {},
   "outputs": [],
   "source": [
    "d_analysis5 = data[['floor_Bajo', 'floor_Entreplanta exterior','floor_Entreplanta interior', \n",
    "                    'floor_Semi-sótano exterior','floor_Semi-sótano interior', 'floor_Sótano exterior',\n",
    "                    'floor_Sótano interior', 'buy_price']]\n",
    "\n",
    "sns.pairplot(data, size=2.5, vars=d_analysis5)\n",
    "plt.tight_layout()"
   ]
  },
  {
   "cell_type": "code",
   "execution_count": null,
   "metadata": {},
   "outputs": [],
   "source": [
    "import visuals as vs\n",
    "\n",
    "vs.ModelLearning(features, prices)"
   ]
  },
  {
   "cell_type": "code",
   "execution_count": null,
   "metadata": {},
   "outputs": [],
   "source": []
  },
  {
   "cell_type": "code",
   "execution_count": null,
   "metadata": {},
   "outputs": [],
   "source": [
    "# Aquí comentarios con respecto a los gráficos anteriores."
   ]
  },
  {
   "cell_type": "markdown",
   "metadata": {},
   "source": [
    "### Una vez tenemos todos los datos correctamente organizados, vamos a proceder a entrenar los datos.\n",
    "### En este caso nuestro GroundTruth es buy price, por lo que vamos a proceder a realizar el estudio."
   ]
  },
  {
   "cell_type": "code",
   "execution_count": null,
   "metadata": {},
   "outputs": [],
   "source": [
    "columnas = [col for col in data.columns if col not in [\"buy_price\"]]\n",
    "X = data[columnas]\n",
    "y = data[\"buy_price\"]"
   ]
  },
  {
   "cell_type": "code",
   "execution_count": null,
   "metadata": {},
   "outputs": [],
   "source": [
    "from sklearn.model_selection import train_test_split\n",
    "\n",
    "X_train, X_test, y_train, y_test = train_test_split(X, y, test_size = 0.2, random_state=42)"
   ]
  },
  {
   "cell_type": "markdown",
   "metadata": {},
   "source": [
    "### Vamos a descubrir cual es el modelo que mejor funciona"
   ]
  },
  {
   "cell_type": "code",
   "execution_count": null,
   "metadata": {},
   "outputs": [],
   "source": [
    "from sklearn.tree import DecisionTreeRegressor\n",
    "from sklearn.experimental import enable_hist_gradient_boosting\n",
    "from sklearn.ensemble import RandomForestRegressor, ExtraTreesRegressor, GradientBoostingRegressor, HistGradientBoostingRegressor, VotingRegressor\n",
    "from sklearn.metrics import  explained_variance_score, max_error, mean_absolute_error, mean_squared_error, r2_score\n",
    "from sklearn.model_selection import cross_val_score"
   ]
  },
  {
   "cell_type": "code",
   "execution_count": null,
   "metadata": {},
   "outputs": [],
   "source": [
    "models = {\n",
    "    \"DecisionTree\" : DecisionTreeRegressor(),\n",
    "    \"RandomForest\": RandomForestRegressor(),\n",
    "    \"ExtraTrees\" : ExtraTreesRegressor(),\n",
    "    \"GradientBoosting\" : GradientBoostingRegressor(),\n",
    "    \"HistGradientBoosting\": HistGradientBoostingRegressor(),\n",
    "    \"Voting\": VotingRegressor(\n",
    "        [('etr', ExtraTreesRegressor()),\n",
    "         ('rf', RandomForestRegressor())]\n",
    "    )\n",
    "}"
   ]
  },
  {
   "cell_type": "code",
   "execution_count": null,
   "metadata": {},
   "outputs": [],
   "source": [
    "for name, model in models.items():\n",
    "    print(f\"Entrenando {name}\")\n",
    "    model.fit(X_train, y_train)\n",
    "print(\"Proceso terminado \")"
   ]
  },
  {
   "cell_type": "code",
   "execution_count": null,
   "metadata": {},
   "outputs": [],
   "source": [
    "for name, model in models.items():\n",
    "    y_pred = model.predict(X_test)\n",
    "    print(f\"-------{name}-------\")\n",
    "    print(\"EVS\", round(explained_variance_score(y_test,y_pred),3))\n",
    "    print(\"ME\", round(max_error(y_test,y_pred),3))\n",
    "    print(\"MAE\", round(mean_absolute_error(y_test,y_pred),3))\n",
    "    print(\"RMSE\", round(np.sqrt(mean_squared_error(y_test,y_pred)),3))\n",
    "    print(\"R2\", round(r2_score(y_test,y_pred),3))\n",
    "    plt.figure()\n",
    "    plt.title(name)\n",
    "    plt.scatter(y_test,y_pred)\n",
    "    plt.plot([y_test.min(), y_test.max()], [y_pred.min(), y_pred.max()], 'k--', lw=2)"
   ]
  },
  {
   "cell_type": "code",
   "execution_count": null,
   "metadata": {},
   "outputs": [],
   "source": [
    "for name, model in models.items():\n",
    "    scores = cross_val_score(model,X,y, cv=10)\n",
    "    print(f\"{name} accuracy{np.mean(scores)}\")"
   ]
  },
  {
   "cell_type": "markdown",
   "metadata": {},
   "source": [
    "## ------------------------------  Prueba con otras features.  ------------------------------------------"
   ]
  },
  {
   "cell_type": "code",
   "execution_count": null,
   "metadata": {},
   "outputs": [],
   "source": [
    "columnas = [col for col in data.columns if col not in [\"has_pool\",\"has_terrace\",\"has_balcony\",\"buy_price\"]]\n",
    "X = data[columnas]\n",
    "y = data[\"buy_price\"]"
   ]
  },
  {
   "cell_type": "code",
   "execution_count": null,
   "metadata": {},
   "outputs": [],
   "source": [
    "from sklearn.model_selection import train_test_split\n",
    "\n",
    "X_train, X_test, y_train, y_test = train_test_split(X, y, test_size = 0.2, random_state=42)"
   ]
  },
  {
   "cell_type": "code",
   "execution_count": null,
   "metadata": {},
   "outputs": [],
   "source": [
    "models = {\n",
    "    \"DecisionTree\" : DecisionTreeRegressor(),\n",
    "    \"RandomForest\": RandomForestRegressor(),\n",
    "    \"ExtraTrees\" : ExtraTreesRegressor(),\n",
    "    \"GradientBoosting\" : GradientBoostingRegressor(),\n",
    "    \"HistGradientBoosting\": HistGradientBoostingRegressor(),\n",
    "    \"Voting\": VotingRegressor(\n",
    "        [('etr', ExtraTreesRegressor()),\n",
    "         ('rf', RandomForestRegressor())]\n",
    "    )\n",
    "}"
   ]
  },
  {
   "cell_type": "code",
   "execution_count": null,
   "metadata": {},
   "outputs": [],
   "source": [
    "for name, model in models.items():\n",
    "    print(f\"Entrenando {name}\")\n",
    "    model.fit(X_train, y_train)\n",
    "print(\"Proceso terminado \")"
   ]
  },
  {
   "cell_type": "code",
   "execution_count": null,
   "metadata": {},
   "outputs": [],
   "source": [
    "for name, model in models.items():\n",
    "    y_pred = model.predict(X_test)\n",
    "    print(f\"-------{name}-------\")\n",
    "    print(\"EVS\", round(explained_variance_score(y_test,y_pred),3))\n",
    "    print(\"ME\", round(max_error(y_test,y_pred),3))\n",
    "    print(\"MAE\", round(mean_absolute_error(y_test,y_pred),3))\n",
    "    print(\"RMSE\", round(np.sqrt(mean_squared_error(y_test,y_pred)),3))\n",
    "    print(\"R2\", round(r2_score(y_test,y_pred),3))\n",
    "    plt.pyplot.figure()\n",
    "    plt.pyplot.title(name)\n",
    "    plt.pyplot.scatter(y_test,y_pred)\n",
    "    plt.pyplot.plot([y_test.min(), y_test.max()], [y_pred.min(), y_pred.max()], 'k--', lw=2)"
   ]
  },
  {
   "cell_type": "code",
   "execution_count": null,
   "metadata": {},
   "outputs": [],
   "source": [
    "for name, model in models.items():\n",
    "    scores = cross_val_score(model,X,y, cv=10)\n",
    "    print(f\"{name} accuracy{np.mean(scores)}\")"
   ]
  },
  {
   "cell_type": "markdown",
   "metadata": {},
   "source": [
    "## Pruebas eliminando viviendas con precios por encima de 1.200.000€"
   ]
  },
  {
   "cell_type": "code",
   "execution_count": null,
   "metadata": {},
   "outputs": [],
   "source": [
    "data1 = pd.read_csv(\"../outputs/clean_houses.csv\")"
   ]
  },
  {
   "cell_type": "code",
   "execution_count": null,
   "metadata": {},
   "outputs": [],
   "source": [
    "data1.rename(columns={\"Unnamed: 0\":\"index\"},inplace=True)\n",
    "data1.set_index(\"index\", inplace=True)\n",
    "data1.head()"
   ]
  },
  {
   "cell_type": "code",
   "execution_count": null,
   "metadata": {},
   "outputs": [],
   "source": [
    "data1[data1.buy_price>2000000].count()"
   ]
  },
  {
   "cell_type": "code",
   "execution_count": null,
   "metadata": {},
   "outputs": [],
   "source": [
    "data1 = data1.drop(data1[data1[\"buy_price\"]>1200000].index)"
   ]
  },
  {
   "cell_type": "code",
   "execution_count": null,
   "metadata": {},
   "outputs": [],
   "source": [
    "data1"
   ]
  },
  {
   "cell_type": "code",
   "execution_count": null,
   "metadata": {},
   "outputs": [],
   "source": [
    "def transf(column):\n",
    "\n",
    "    le = preprocessing.LabelEncoder()\n",
    "    data1[column] = le.fit_transform(data1[column])\n",
    "    return data1[column]"
   ]
  },
  {
   "cell_type": "code",
   "execution_count": null,
   "metadata": {},
   "outputs": [],
   "source": [
    "transf(\"house_type_id\")\n",
    "transf(\"is_renewal_needed\")\n",
    "transf(\"is_new_development\")\n",
    "transf(\"is_exterior\")\n",
    "transf(\"has_lift\")\n",
    "transf(\"has_parking\")\n",
    "transf(\"has_storage_room\")\n",
    "transf(\"has_terrace\")\n",
    "transf(\"has_balcony\")\n",
    "transf(\"has_pool\")"
   ]
  },
  {
   "cell_type": "code",
   "execution_count": null,
   "metadata": {},
   "outputs": [],
   "source": [
    "# Aplicamos ahora get_dummies a la columna floor.\n",
    "\n",
    "data1 = pd.get_dummies(data1, columns = [\"floor\"])"
   ]
  },
  {
   "cell_type": "code",
   "execution_count": null,
   "metadata": {},
   "outputs": [],
   "source": [
    "data1.columns"
   ]
  },
  {
   "cell_type": "code",
   "execution_count": null,
   "metadata": {},
   "outputs": [],
   "source": [
    "data1 = data1[['latitude', 'longitude', 'house_type_id', 'sq_mt_built', 'n_rooms', 'n_bathrooms',\n",
    "       'is_exterior', 'has_lift', 'has_parking', 'has_storage_room',\n",
    "       'has_terrace', 'has_balcony', 'has_pool', 'floor_1', 'floor_2',\n",
    "       'floor_3', 'floor_4', 'floor_5', 'floor_6', 'floor_7', 'floor_8',\n",
    "       'floor_9', 'floor_Bajo', 'floor_Entreplanta exterior',\n",
    "       'floor_Entreplanta interior', 'floor_Semi-sótano exterior',\n",
    "       'floor_Semi-sótano interior', 'floor_Sótano exterior',\n",
    "       'floor_Sótano interior', 'buy_price']]"
   ]
  },
  {
   "cell_type": "code",
   "execution_count": null,
   "metadata": {},
   "outputs": [],
   "source": [
    "columnas = [col for col in data1.columns if col not in [\"buy_price\"]]\n",
    "X = data1[columnas]\n",
    "y = data1[\"buy_price\"]"
   ]
  },
  {
   "cell_type": "code",
   "execution_count": null,
   "metadata": {},
   "outputs": [],
   "source": [
    "from sklearn.model_selection import train_test_split\n",
    "\n",
    "X_train, X_test, y_train, y_test = train_test_split(X, y, test_size = 0.2, random_state=42)"
   ]
  },
  {
   "cell_type": "code",
   "execution_count": null,
   "metadata": {},
   "outputs": [],
   "source": [
    "models = {\n",
    "    \"DecisionTree\" : DecisionTreeRegressor(),\n",
    "    \"RandomForest\": RandomForestRegressor(),\n",
    "    \"ExtraTrees\" : ExtraTreesRegressor(),\n",
    "    \"GradientBoosting\" : GradientBoostingRegressor(),\n",
    "    \"HistGradientBoosting\": HistGradientBoostingRegressor(),\n",
    "    \"Voting\": VotingRegressor(\n",
    "        [('etr', ExtraTreesRegressor()),\n",
    "         ('rf', RandomForestRegressor())]\n",
    "    )\n",
    "}"
   ]
  },
  {
   "cell_type": "code",
   "execution_count": null,
   "metadata": {},
   "outputs": [],
   "source": [
    "for name, model in models.items():\n",
    "    print(f\"Entrenando {name}\")\n",
    "    model.fit(X_train, y_train)\n",
    "print(\"Proceso terminado \")"
   ]
  },
  {
   "cell_type": "code",
   "execution_count": null,
   "metadata": {},
   "outputs": [],
   "source": [
    "for name, model in models.items():\n",
    "    y_pred = model.predict(X_test)\n",
    "    print(f\"-------{name}-------\")\n",
    "    print(\"EVS\", round(explained_variance_score(y_test,y_pred),3))\n",
    "    print(\"ME\", round(max_error(y_test,y_pred),3))\n",
    "    print(\"MAE\", round(mean_absolute_error(y_test,y_pred),3))\n",
    "    print(\"RMSE\", round(np.sqrt(mean_squared_error(y_test,y_pred)),3))\n",
    "    print(\"R2\", round(r2_score(y_test,y_pred),3))\n",
    "    plt.figure()\n",
    "    plt.title(name)\n",
    "    plt.scatter(y_test,y_pred)\n",
    "    plt.plot([y_test.min(), y_test.max()], [y_pred.min(), y_pred.max()], 'k--', lw=2)"
   ]
  },
  {
   "cell_type": "code",
   "execution_count": null,
   "metadata": {},
   "outputs": [],
   "source": [
    "for name, model in models.items():\n",
    "    scores = cross_val_score(model,X,y, cv=10)\n",
    "    print(f\"{name} accuracy{np.mean(scores)}\")"
   ]
  },
  {
   "cell_type": "markdown",
   "metadata": {},
   "source": [
    "## Pruebas según heatmap"
   ]
  },
  {
   "cell_type": "code",
   "execution_count": 4,
   "metadata": {},
   "outputs": [],
   "source": [
    "data2 = pd.read_csv(\"../outputs/clean_houses.csv\")"
   ]
  },
  {
   "cell_type": "code",
   "execution_count": 5,
   "metadata": {},
   "outputs": [
    {
     "data": {
      "text/html": [
       "<div>\n",
       "<style scoped>\n",
       "    .dataframe tbody tr th:only-of-type {\n",
       "        vertical-align: middle;\n",
       "    }\n",
       "\n",
       "    .dataframe tbody tr th {\n",
       "        vertical-align: top;\n",
       "    }\n",
       "\n",
       "    .dataframe thead th {\n",
       "        text-align: right;\n",
       "    }\n",
       "</style>\n",
       "<table border=\"1\" class=\"dataframe\">\n",
       "  <thead>\n",
       "    <tr style=\"text-align: right;\">\n",
       "      <th></th>\n",
       "      <th>neighborhood_id</th>\n",
       "      <th>house_type_id</th>\n",
       "      <th>is_renewal_needed</th>\n",
       "      <th>is_new_development</th>\n",
       "      <th>sq_mt_built</th>\n",
       "      <th>n_rooms</th>\n",
       "      <th>n_bathrooms</th>\n",
       "      <th>floor</th>\n",
       "      <th>is_exterior</th>\n",
       "      <th>has_lift</th>\n",
       "      <th>has_parking</th>\n",
       "      <th>has_storage_room</th>\n",
       "      <th>has_terrace</th>\n",
       "      <th>has_balcony</th>\n",
       "      <th>has_pool</th>\n",
       "      <th>buy_price</th>\n",
       "      <th>buy_price_by_area</th>\n",
       "      <th>latitude</th>\n",
       "      <th>longitude</th>\n",
       "    </tr>\n",
       "    <tr>\n",
       "      <th>index</th>\n",
       "      <th></th>\n",
       "      <th></th>\n",
       "      <th></th>\n",
       "      <th></th>\n",
       "      <th></th>\n",
       "      <th></th>\n",
       "      <th></th>\n",
       "      <th></th>\n",
       "      <th></th>\n",
       "      <th></th>\n",
       "      <th></th>\n",
       "      <th></th>\n",
       "      <th></th>\n",
       "      <th></th>\n",
       "      <th></th>\n",
       "      <th></th>\n",
       "      <th></th>\n",
       "      <th></th>\n",
       "      <th></th>\n",
       "    </tr>\n",
       "  </thead>\n",
       "  <tbody>\n",
       "    <tr>\n",
       "      <th>0</th>\n",
       "      <td>San Cristóbal, Villaverde(Madrid)</td>\n",
       "      <td>HouseType 1: Pisos</td>\n",
       "      <td>False</td>\n",
       "      <td>False</td>\n",
       "      <td>64.0</td>\n",
       "      <td>2</td>\n",
       "      <td>1.0</td>\n",
       "      <td>3</td>\n",
       "      <td>True</td>\n",
       "      <td>False</td>\n",
       "      <td>False</td>\n",
       "      <td>False</td>\n",
       "      <td>False</td>\n",
       "      <td>False</td>\n",
       "      <td>False</td>\n",
       "      <td>85000</td>\n",
       "      <td>1328</td>\n",
       "      <td>40.343263</td>\n",
       "      <td>-3.688352</td>\n",
       "    </tr>\n",
       "    <tr>\n",
       "      <th>1</th>\n",
       "      <td>Los Ángeles, Villaverde(Madrid)</td>\n",
       "      <td>HouseType 1: Pisos</td>\n",
       "      <td>True</td>\n",
       "      <td>False</td>\n",
       "      <td>70.0</td>\n",
       "      <td>3</td>\n",
       "      <td>1.0</td>\n",
       "      <td>4</td>\n",
       "      <td>True</td>\n",
       "      <td>True</td>\n",
       "      <td>False</td>\n",
       "      <td>False</td>\n",
       "      <td>True</td>\n",
       "      <td>False</td>\n",
       "      <td>False</td>\n",
       "      <td>129900</td>\n",
       "      <td>1856</td>\n",
       "      <td>40.355109</td>\n",
       "      <td>-3.700105</td>\n",
       "    </tr>\n",
       "    <tr>\n",
       "      <th>2</th>\n",
       "      <td>San Andrés, Villaverde(Madrid)</td>\n",
       "      <td>HouseType 1: Pisos</td>\n",
       "      <td>False</td>\n",
       "      <td>False</td>\n",
       "      <td>94.0</td>\n",
       "      <td>2</td>\n",
       "      <td>2.0</td>\n",
       "      <td>1</td>\n",
       "      <td>True</td>\n",
       "      <td>True</td>\n",
       "      <td>False</td>\n",
       "      <td>True</td>\n",
       "      <td>False</td>\n",
       "      <td>False</td>\n",
       "      <td>False</td>\n",
       "      <td>144247</td>\n",
       "      <td>1535</td>\n",
       "      <td>40.345539</td>\n",
       "      <td>-3.710970</td>\n",
       "    </tr>\n",
       "    <tr>\n",
       "      <th>3</th>\n",
       "      <td>San Andrés, Villaverde(Madrid)</td>\n",
       "      <td>HouseType 1: Pisos</td>\n",
       "      <td>False</td>\n",
       "      <td>False</td>\n",
       "      <td>64.0</td>\n",
       "      <td>2</td>\n",
       "      <td>1.0</td>\n",
       "      <td>Bajo</td>\n",
       "      <td>True</td>\n",
       "      <td>True</td>\n",
       "      <td>False</td>\n",
       "      <td>True</td>\n",
       "      <td>False</td>\n",
       "      <td>False</td>\n",
       "      <td>False</td>\n",
       "      <td>109900</td>\n",
       "      <td>1717</td>\n",
       "      <td>40.345539</td>\n",
       "      <td>-3.710970</td>\n",
       "    </tr>\n",
       "    <tr>\n",
       "      <th>4</th>\n",
       "      <td>Los Rosales, Villaverde(Madrid)</td>\n",
       "      <td>HouseType 1: Pisos</td>\n",
       "      <td>False</td>\n",
       "      <td>False</td>\n",
       "      <td>108.0</td>\n",
       "      <td>2</td>\n",
       "      <td>2.0</td>\n",
       "      <td>4</td>\n",
       "      <td>True</td>\n",
       "      <td>True</td>\n",
       "      <td>True</td>\n",
       "      <td>True</td>\n",
       "      <td>False</td>\n",
       "      <td>False</td>\n",
       "      <td>True</td>\n",
       "      <td>260000</td>\n",
       "      <td>2407</td>\n",
       "      <td>40.355841</td>\n",
       "      <td>-3.688399</td>\n",
       "    </tr>\n",
       "  </tbody>\n",
       "</table>\n",
       "</div>"
      ],
      "text/plain": [
       "                         neighborhood_id       house_type_id  \\\n",
       "index                                                          \n",
       "0      San Cristóbal, Villaverde(Madrid)  HouseType 1: Pisos   \n",
       "1        Los Ángeles, Villaverde(Madrid)  HouseType 1: Pisos   \n",
       "2         San Andrés, Villaverde(Madrid)  HouseType 1: Pisos   \n",
       "3         San Andrés, Villaverde(Madrid)  HouseType 1: Pisos   \n",
       "4        Los Rosales, Villaverde(Madrid)  HouseType 1: Pisos   \n",
       "\n",
       "       is_renewal_needed  is_new_development  sq_mt_built  n_rooms  \\\n",
       "index                                                                \n",
       "0                  False               False         64.0        2   \n",
       "1                   True               False         70.0        3   \n",
       "2                  False               False         94.0        2   \n",
       "3                  False               False         64.0        2   \n",
       "4                  False               False        108.0        2   \n",
       "\n",
       "       n_bathrooms floor  is_exterior  has_lift  has_parking  \\\n",
       "index                                                          \n",
       "0              1.0     3         True     False        False   \n",
       "1              1.0     4         True      True        False   \n",
       "2              2.0     1         True      True        False   \n",
       "3              1.0  Bajo         True      True        False   \n",
       "4              2.0     4         True      True         True   \n",
       "\n",
       "       has_storage_room  has_terrace  has_balcony  has_pool  buy_price  \\\n",
       "index                                                                    \n",
       "0                 False        False        False     False      85000   \n",
       "1                 False         True        False     False     129900   \n",
       "2                  True        False        False     False     144247   \n",
       "3                  True        False        False     False     109900   \n",
       "4                  True        False        False      True     260000   \n",
       "\n",
       "       buy_price_by_area   latitude  longitude  \n",
       "index                                           \n",
       "0                   1328  40.343263  -3.688352  \n",
       "1                   1856  40.355109  -3.700105  \n",
       "2                   1535  40.345539  -3.710970  \n",
       "3                   1717  40.345539  -3.710970  \n",
       "4                   2407  40.355841  -3.688399  "
      ]
     },
     "execution_count": 5,
     "metadata": {},
     "output_type": "execute_result"
    }
   ],
   "source": [
    "data2.rename(columns={\"Unnamed: 0\":\"index\"},inplace=True)\n",
    "data2.set_index(\"index\", inplace=True)\n",
    "data2.head()"
   ]
  },
  {
   "cell_type": "code",
   "execution_count": 6,
   "metadata": {},
   "outputs": [],
   "source": [
    "def transf(column):\n",
    "\n",
    "    le = preprocessing.LabelEncoder()\n",
    "    data2[column] = le.fit_transform(data2[column])\n",
    "    return data2[column]"
   ]
  },
  {
   "cell_type": "code",
   "execution_count": 7,
   "metadata": {},
   "outputs": [
    {
     "data": {
      "text/plain": [
       "index\n",
       "0        0\n",
       "1        0\n",
       "2        0\n",
       "3        0\n",
       "4        1\n",
       "        ..\n",
       "17393    1\n",
       "17394    1\n",
       "17395    0\n",
       "17396    1\n",
       "17397    1\n",
       "Name: has_pool, Length: 17398, dtype: int64"
      ]
     },
     "execution_count": 7,
     "metadata": {},
     "output_type": "execute_result"
    }
   ],
   "source": [
    "transf(\"house_type_id\")\n",
    "transf(\"is_renewal_needed\")\n",
    "transf(\"is_new_development\")\n",
    "transf(\"is_exterior\")\n",
    "transf(\"has_lift\")\n",
    "transf(\"has_parking\")\n",
    "transf(\"has_storage_room\")\n",
    "transf(\"has_terrace\")\n",
    "transf(\"has_balcony\")\n",
    "transf(\"has_pool\")"
   ]
  },
  {
   "cell_type": "code",
   "execution_count": 8,
   "metadata": {},
   "outputs": [
    {
     "data": {
      "text/plain": [
       "70.0     428\n",
       "60.0     412\n",
       "80.0     379\n",
       "65.0     339\n",
       "90.0     316\n",
       "        ... \n",
       "291.0      6\n",
       "366.0      6\n",
       "288.0      6\n",
       "318.0      6\n",
       "282.0      6\n",
       "Name: sq_mt_built, Length: 300, dtype: int64"
      ]
     },
     "execution_count": 8,
     "metadata": {},
     "output_type": "execute_result"
    }
   ],
   "source": [
    "data2.sq_mt_built.value_counts().head(300)"
   ]
  },
  {
   "cell_type": "code",
   "execution_count": 9,
   "metadata": {},
   "outputs": [],
   "source": [
    "data2 = data2.drop(data2[data2[\"buy_price\"]>1200000].index)\n",
    "data2 = data2.drop(data2[data2[\"sq_mt_built\"]>300].index)\n",
    "data2 = data2.drop(data2[data2[\"n_rooms\"]>5].index)\n",
    "data2 = data2.drop(data2[data2[\"n_bathrooms\"]>5].index)"
   ]
  },
  {
   "cell_type": "code",
   "execution_count": 10,
   "metadata": {},
   "outputs": [
    {
     "data": {
      "text/html": [
       "<div>\n",
       "<style scoped>\n",
       "    .dataframe tbody tr th:only-of-type {\n",
       "        vertical-align: middle;\n",
       "    }\n",
       "\n",
       "    .dataframe tbody tr th {\n",
       "        vertical-align: top;\n",
       "    }\n",
       "\n",
       "    .dataframe thead th {\n",
       "        text-align: right;\n",
       "    }\n",
       "</style>\n",
       "<table border=\"1\" class=\"dataframe\">\n",
       "  <thead>\n",
       "    <tr style=\"text-align: right;\">\n",
       "      <th></th>\n",
       "      <th>neighborhood_id</th>\n",
       "      <th>house_type_id</th>\n",
       "      <th>is_renewal_needed</th>\n",
       "      <th>is_new_development</th>\n",
       "      <th>sq_mt_built</th>\n",
       "      <th>n_rooms</th>\n",
       "      <th>n_bathrooms</th>\n",
       "      <th>floor</th>\n",
       "      <th>is_exterior</th>\n",
       "      <th>has_lift</th>\n",
       "      <th>has_parking</th>\n",
       "      <th>has_storage_room</th>\n",
       "      <th>has_terrace</th>\n",
       "      <th>has_balcony</th>\n",
       "      <th>has_pool</th>\n",
       "      <th>buy_price</th>\n",
       "      <th>buy_price_by_area</th>\n",
       "      <th>latitude</th>\n",
       "      <th>longitude</th>\n",
       "    </tr>\n",
       "    <tr>\n",
       "      <th>index</th>\n",
       "      <th></th>\n",
       "      <th></th>\n",
       "      <th></th>\n",
       "      <th></th>\n",
       "      <th></th>\n",
       "      <th></th>\n",
       "      <th></th>\n",
       "      <th></th>\n",
       "      <th></th>\n",
       "      <th></th>\n",
       "      <th></th>\n",
       "      <th></th>\n",
       "      <th></th>\n",
       "      <th></th>\n",
       "      <th></th>\n",
       "      <th></th>\n",
       "      <th></th>\n",
       "      <th></th>\n",
       "      <th></th>\n",
       "    </tr>\n",
       "  </thead>\n",
       "  <tbody>\n",
       "    <tr>\n",
       "      <th>0</th>\n",
       "      <td>San Cristóbal, Villaverde(Madrid)</td>\n",
       "      <td>0</td>\n",
       "      <td>0</td>\n",
       "      <td>0</td>\n",
       "      <td>64.0</td>\n",
       "      <td>2</td>\n",
       "      <td>1.0</td>\n",
       "      <td>3</td>\n",
       "      <td>1</td>\n",
       "      <td>0</td>\n",
       "      <td>0</td>\n",
       "      <td>0</td>\n",
       "      <td>0</td>\n",
       "      <td>0</td>\n",
       "      <td>0</td>\n",
       "      <td>85000</td>\n",
       "      <td>1328</td>\n",
       "      <td>40.343263</td>\n",
       "      <td>-3.688352</td>\n",
       "    </tr>\n",
       "    <tr>\n",
       "      <th>1</th>\n",
       "      <td>Los Ángeles, Villaverde(Madrid)</td>\n",
       "      <td>0</td>\n",
       "      <td>1</td>\n",
       "      <td>0</td>\n",
       "      <td>70.0</td>\n",
       "      <td>3</td>\n",
       "      <td>1.0</td>\n",
       "      <td>4</td>\n",
       "      <td>1</td>\n",
       "      <td>1</td>\n",
       "      <td>0</td>\n",
       "      <td>0</td>\n",
       "      <td>1</td>\n",
       "      <td>0</td>\n",
       "      <td>0</td>\n",
       "      <td>129900</td>\n",
       "      <td>1856</td>\n",
       "      <td>40.355109</td>\n",
       "      <td>-3.700105</td>\n",
       "    </tr>\n",
       "    <tr>\n",
       "      <th>2</th>\n",
       "      <td>San Andrés, Villaverde(Madrid)</td>\n",
       "      <td>0</td>\n",
       "      <td>0</td>\n",
       "      <td>0</td>\n",
       "      <td>94.0</td>\n",
       "      <td>2</td>\n",
       "      <td>2.0</td>\n",
       "      <td>1</td>\n",
       "      <td>1</td>\n",
       "      <td>1</td>\n",
       "      <td>0</td>\n",
       "      <td>1</td>\n",
       "      <td>0</td>\n",
       "      <td>0</td>\n",
       "      <td>0</td>\n",
       "      <td>144247</td>\n",
       "      <td>1535</td>\n",
       "      <td>40.345539</td>\n",
       "      <td>-3.710970</td>\n",
       "    </tr>\n",
       "    <tr>\n",
       "      <th>3</th>\n",
       "      <td>San Andrés, Villaverde(Madrid)</td>\n",
       "      <td>0</td>\n",
       "      <td>0</td>\n",
       "      <td>0</td>\n",
       "      <td>64.0</td>\n",
       "      <td>2</td>\n",
       "      <td>1.0</td>\n",
       "      <td>Bajo</td>\n",
       "      <td>1</td>\n",
       "      <td>1</td>\n",
       "      <td>0</td>\n",
       "      <td>1</td>\n",
       "      <td>0</td>\n",
       "      <td>0</td>\n",
       "      <td>0</td>\n",
       "      <td>109900</td>\n",
       "      <td>1717</td>\n",
       "      <td>40.345539</td>\n",
       "      <td>-3.710970</td>\n",
       "    </tr>\n",
       "    <tr>\n",
       "      <th>4</th>\n",
       "      <td>Los Rosales, Villaverde(Madrid)</td>\n",
       "      <td>0</td>\n",
       "      <td>0</td>\n",
       "      <td>0</td>\n",
       "      <td>108.0</td>\n",
       "      <td>2</td>\n",
       "      <td>2.0</td>\n",
       "      <td>4</td>\n",
       "      <td>1</td>\n",
       "      <td>1</td>\n",
       "      <td>1</td>\n",
       "      <td>1</td>\n",
       "      <td>0</td>\n",
       "      <td>0</td>\n",
       "      <td>1</td>\n",
       "      <td>260000</td>\n",
       "      <td>2407</td>\n",
       "      <td>40.355841</td>\n",
       "      <td>-3.688399</td>\n",
       "    </tr>\n",
       "    <tr>\n",
       "      <th>...</th>\n",
       "      <td>...</td>\n",
       "      <td>...</td>\n",
       "      <td>...</td>\n",
       "      <td>...</td>\n",
       "      <td>...</td>\n",
       "      <td>...</td>\n",
       "      <td>...</td>\n",
       "      <td>...</td>\n",
       "      <td>...</td>\n",
       "      <td>...</td>\n",
       "      <td>...</td>\n",
       "      <td>...</td>\n",
       "      <td>...</td>\n",
       "      <td>...</td>\n",
       "      <td>...</td>\n",
       "      <td>...</td>\n",
       "      <td>...</td>\n",
       "      <td>...</td>\n",
       "      <td>...</td>\n",
       "    </tr>\n",
       "    <tr>\n",
       "      <th>17393</th>\n",
       "      <td>Campo de las Naciones-Corralejos, Barajas(Madrid)</td>\n",
       "      <td>0</td>\n",
       "      <td>0</td>\n",
       "      <td>0</td>\n",
       "      <td>88.0</td>\n",
       "      <td>2</td>\n",
       "      <td>2.0</td>\n",
       "      <td>1</td>\n",
       "      <td>1</td>\n",
       "      <td>1</td>\n",
       "      <td>1</td>\n",
       "      <td>1</td>\n",
       "      <td>0</td>\n",
       "      <td>0</td>\n",
       "      <td>1</td>\n",
       "      <td>360000</td>\n",
       "      <td>4420</td>\n",
       "      <td>40.459749</td>\n",
       "      <td>-3.612738</td>\n",
       "    </tr>\n",
       "    <tr>\n",
       "      <th>17394</th>\n",
       "      <td>Campo de las Naciones-Corralejos, Barajas(Madrid)</td>\n",
       "      <td>0</td>\n",
       "      <td>0</td>\n",
       "      <td>0</td>\n",
       "      <td>99.0</td>\n",
       "      <td>2</td>\n",
       "      <td>2.0</td>\n",
       "      <td>1</td>\n",
       "      <td>1</td>\n",
       "      <td>1</td>\n",
       "      <td>1</td>\n",
       "      <td>1</td>\n",
       "      <td>0</td>\n",
       "      <td>0</td>\n",
       "      <td>1</td>\n",
       "      <td>349000</td>\n",
       "      <td>3525</td>\n",
       "      <td>40.459749</td>\n",
       "      <td>-3.612738</td>\n",
       "    </tr>\n",
       "    <tr>\n",
       "      <th>17395</th>\n",
       "      <td>Casco Histórico de Barajas, Barajas(Madrid)</td>\n",
       "      <td>2</td>\n",
       "      <td>0</td>\n",
       "      <td>0</td>\n",
       "      <td>78.0</td>\n",
       "      <td>2</td>\n",
       "      <td>2.0</td>\n",
       "      <td>4</td>\n",
       "      <td>1</td>\n",
       "      <td>1</td>\n",
       "      <td>1</td>\n",
       "      <td>1</td>\n",
       "      <td>0</td>\n",
       "      <td>0</td>\n",
       "      <td>0</td>\n",
       "      <td>350000</td>\n",
       "      <td>4487</td>\n",
       "      <td>40.479840</td>\n",
       "      <td>-3.580251</td>\n",
       "    </tr>\n",
       "    <tr>\n",
       "      <th>17396</th>\n",
       "      <td>Campo de las Naciones-Corralejos, Barajas(Madrid)</td>\n",
       "      <td>0</td>\n",
       "      <td>0</td>\n",
       "      <td>0</td>\n",
       "      <td>96.0</td>\n",
       "      <td>2</td>\n",
       "      <td>2.0</td>\n",
       "      <td>3</td>\n",
       "      <td>1</td>\n",
       "      <td>1</td>\n",
       "      <td>1</td>\n",
       "      <td>1</td>\n",
       "      <td>0</td>\n",
       "      <td>0</td>\n",
       "      <td>1</td>\n",
       "      <td>425000</td>\n",
       "      <td>4427</td>\n",
       "      <td>40.459749</td>\n",
       "      <td>-3.612738</td>\n",
       "    </tr>\n",
       "    <tr>\n",
       "      <th>17397</th>\n",
       "      <td>Campo de las Naciones-Corralejos, Barajas(Madrid)</td>\n",
       "      <td>0</td>\n",
       "      <td>0</td>\n",
       "      <td>0</td>\n",
       "      <td>175.0</td>\n",
       "      <td>4</td>\n",
       "      <td>2.0</td>\n",
       "      <td>Bajo</td>\n",
       "      <td>1</td>\n",
       "      <td>0</td>\n",
       "      <td>1</td>\n",
       "      <td>1</td>\n",
       "      <td>1</td>\n",
       "      <td>0</td>\n",
       "      <td>1</td>\n",
       "      <td>680000</td>\n",
       "      <td>3886</td>\n",
       "      <td>40.459749</td>\n",
       "      <td>-3.612738</td>\n",
       "    </tr>\n",
       "  </tbody>\n",
       "</table>\n",
       "<p>15400 rows × 19 columns</p>\n",
       "</div>"
      ],
      "text/plain": [
       "                                         neighborhood_id  house_type_id  \\\n",
       "index                                                                     \n",
       "0                      San Cristóbal, Villaverde(Madrid)              0   \n",
       "1                        Los Ángeles, Villaverde(Madrid)              0   \n",
       "2                         San Andrés, Villaverde(Madrid)              0   \n",
       "3                         San Andrés, Villaverde(Madrid)              0   \n",
       "4                        Los Rosales, Villaverde(Madrid)              0   \n",
       "...                                                  ...            ...   \n",
       "17393  Campo de las Naciones-Corralejos, Barajas(Madrid)              0   \n",
       "17394  Campo de las Naciones-Corralejos, Barajas(Madrid)              0   \n",
       "17395        Casco Histórico de Barajas, Barajas(Madrid)              2   \n",
       "17396  Campo de las Naciones-Corralejos, Barajas(Madrid)              0   \n",
       "17397  Campo de las Naciones-Corralejos, Barajas(Madrid)              0   \n",
       "\n",
       "       is_renewal_needed  is_new_development  sq_mt_built  n_rooms  \\\n",
       "index                                                                \n",
       "0                      0                   0         64.0        2   \n",
       "1                      1                   0         70.0        3   \n",
       "2                      0                   0         94.0        2   \n",
       "3                      0                   0         64.0        2   \n",
       "4                      0                   0        108.0        2   \n",
       "...                  ...                 ...          ...      ...   \n",
       "17393                  0                   0         88.0        2   \n",
       "17394                  0                   0         99.0        2   \n",
       "17395                  0                   0         78.0        2   \n",
       "17396                  0                   0         96.0        2   \n",
       "17397                  0                   0        175.0        4   \n",
       "\n",
       "       n_bathrooms floor  is_exterior  has_lift  has_parking  \\\n",
       "index                                                          \n",
       "0              1.0     3            1         0            0   \n",
       "1              1.0     4            1         1            0   \n",
       "2              2.0     1            1         1            0   \n",
       "3              1.0  Bajo            1         1            0   \n",
       "4              2.0     4            1         1            1   \n",
       "...            ...   ...          ...       ...          ...   \n",
       "17393          2.0     1            1         1            1   \n",
       "17394          2.0     1            1         1            1   \n",
       "17395          2.0     4            1         1            1   \n",
       "17396          2.0     3            1         1            1   \n",
       "17397          2.0  Bajo            1         0            1   \n",
       "\n",
       "       has_storage_room  has_terrace  has_balcony  has_pool  buy_price  \\\n",
       "index                                                                    \n",
       "0                     0            0            0         0      85000   \n",
       "1                     0            1            0         0     129900   \n",
       "2                     1            0            0         0     144247   \n",
       "3                     1            0            0         0     109900   \n",
       "4                     1            0            0         1     260000   \n",
       "...                 ...          ...          ...       ...        ...   \n",
       "17393                 1            0            0         1     360000   \n",
       "17394                 1            0            0         1     349000   \n",
       "17395                 1            0            0         0     350000   \n",
       "17396                 1            0            0         1     425000   \n",
       "17397                 1            1            0         1     680000   \n",
       "\n",
       "       buy_price_by_area   latitude  longitude  \n",
       "index                                           \n",
       "0                   1328  40.343263  -3.688352  \n",
       "1                   1856  40.355109  -3.700105  \n",
       "2                   1535  40.345539  -3.710970  \n",
       "3                   1717  40.345539  -3.710970  \n",
       "4                   2407  40.355841  -3.688399  \n",
       "...                  ...        ...        ...  \n",
       "17393               4420  40.459749  -3.612738  \n",
       "17394               3525  40.459749  -3.612738  \n",
       "17395               4487  40.479840  -3.580251  \n",
       "17396               4427  40.459749  -3.612738  \n",
       "17397               3886  40.459749  -3.612738  \n",
       "\n",
       "[15400 rows x 19 columns]"
      ]
     },
     "execution_count": 10,
     "metadata": {},
     "output_type": "execute_result"
    }
   ],
   "source": [
    "data2.reset_index()\n",
    "data2"
   ]
  },
  {
   "cell_type": "code",
   "execution_count": 11,
   "metadata": {},
   "outputs": [],
   "source": [
    "# Aplicamos ahora get_dummies a la columna floor.\n",
    "\n",
    "data2 = pd.get_dummies(data2, columns = [\"floor\"])"
   ]
  },
  {
   "cell_type": "code",
   "execution_count": 12,
   "metadata": {},
   "outputs": [
    {
     "data": {
      "text/plain": [
       "Index(['neighborhood_id', 'house_type_id', 'is_renewal_needed',\n",
       "       'is_new_development', 'sq_mt_built', 'n_rooms', 'n_bathrooms',\n",
       "       'is_exterior', 'has_lift', 'has_parking', 'has_storage_room',\n",
       "       'has_terrace', 'has_balcony', 'has_pool', 'buy_price',\n",
       "       'buy_price_by_area', 'latitude', 'longitude', 'floor_1', 'floor_2',\n",
       "       'floor_3', 'floor_4', 'floor_5', 'floor_6', 'floor_7', 'floor_8',\n",
       "       'floor_9', 'floor_Bajo', 'floor_Entreplanta exterior',\n",
       "       'floor_Entreplanta interior', 'floor_Semi-sótano exterior',\n",
       "       'floor_Semi-sótano interior', 'floor_Sótano exterior',\n",
       "       'floor_Sótano interior'],\n",
       "      dtype='object')"
      ]
     },
     "execution_count": 12,
     "metadata": {},
     "output_type": "execute_result"
    }
   ],
   "source": [
    "data2.columns"
   ]
  },
  {
   "cell_type": "code",
   "execution_count": 13,
   "metadata": {},
   "outputs": [],
   "source": [
    "data2 = data2[['house_type_id', 'is_renewal_needed',\n",
    "       'is_new_development', 'sq_mt_built', 'n_rooms', 'n_bathrooms',\n",
    "       'is_exterior', 'has_lift', 'has_parking', 'has_storage_room',\n",
    "       'has_terrace', 'has_balcony', 'has_pool', 'latitude', 'longitude', 'floor_1', 'floor_2',\n",
    "       'floor_3', 'floor_4', 'floor_5', 'floor_6', 'floor_7', 'floor_8',\n",
    "       'floor_9', 'floor_Bajo', 'floor_Entreplanta exterior',\n",
    "       'floor_Entreplanta interior', 'floor_Semi-sótano exterior',\n",
    "       'floor_Semi-sótano interior', 'floor_Sótano exterior',\n",
    "       'floor_Sótano interior','buy_price']]"
   ]
  },
  {
   "cell_type": "code",
   "execution_count": null,
   "metadata": {},
   "outputs": [],
   "source": [
    "data2.to_csv(\"../outputs/h2o.csv\")"
   ]
  },
  {
   "cell_type": "code",
   "execution_count": null,
   "metadata": {},
   "outputs": [],
   "source": [
    "columnas = [col for col in data2.columns if col not in [\"buy_price\"]]\n",
    "X = data2[columnas]\n",
    "y = data2[\"buy_price\"]"
   ]
  },
  {
   "cell_type": "code",
   "execution_count": null,
   "metadata": {},
   "outputs": [],
   "source": [
    "from sklearn.model_selection import train_test_split\n",
    "\n",
    "X_train, X_test, y_train, y_test = train_test_split(X, y, test_size = 0.2, random_state=42)"
   ]
  },
  {
   "cell_type": "code",
   "execution_count": null,
   "metadata": {},
   "outputs": [],
   "source": [
    "models = {\n",
    "    \"DecisionTree\" : DecisionTreeRegressor(),\n",
    "    \"RandomForest\": RandomForestRegressor(max_depth= 60),\n",
    "    \"ExtraTrees\" : ExtraTreesRegressor(),\n",
    "    \"GradientBoosting\" : GradientBoostingRegressor(),\n",
    "    \"HistGradientBoosting\": HistGradientBoostingRegressor(),\n",
    "    \"Voting\": VotingRegressor(\n",
    "        [('etr', ExtraTreesRegressor()),\n",
    "         ('rf', RandomForestRegressor())]\n",
    "    )\n",
    "}"
   ]
  },
  {
   "cell_type": "code",
   "execution_count": null,
   "metadata": {},
   "outputs": [],
   "source": [
    "for name, model in models.items():\n",
    "    print(f\"Entrenando {name}\")\n",
    "    model.fit(X_train, y_train)\n",
    "print(\"Proceso terminado \")"
   ]
  },
  {
   "cell_type": "code",
   "execution_count": null,
   "metadata": {},
   "outputs": [],
   "source": [
    "for name, model in models.items():\n",
    "    y_pred = model.predict(X_test)\n",
    "    print(f\"-------{name}-------\")\n",
    "    print(\"EVS\", round(explained_variance_score(y_test,y_pred),3))\n",
    "    print(\"ME\", round(max_error(y_test,y_pred),3))\n",
    "    print(\"MAE\", round(mean_absolute_error(y_test,y_pred),3))\n",
    "    print(\"RMSE\", round(np.sqrt(mean_squared_error(y_test,y_pred)),3))\n",
    "    print(\"R2\", round(r2_score(y_test,y_pred),3))\n",
    "    plt.figure()\n",
    "    plt.title(name)\n",
    "    plt.scatter(y_test,y_pred)\n",
    "    plt.plot([y_test.min(), y_test.max()], [y_pred.min(), y_pred.max()], 'k--', lw=2)"
   ]
  },
  {
   "cell_type": "code",
   "execution_count": null,
   "metadata": {},
   "outputs": [],
   "source": [
    "for name, model in models.items():\n",
    "    scores = cross_val_score(model,X,y, cv=10)\n",
    "    print(f\"{name} accuracy{np.mean(scores)}\")"
   ]
  },
  {
   "cell_type": "code",
   "execution_count": null,
   "metadata": {},
   "outputs": [],
   "source": [
    "from sklearn.neural_network import MLPRegressor\n",
    "from sklearn.datasets import make_regression\n",
    "\n",
    "X, y = make_regression(n_samples=200, random_state=1)\n",
    "\n",
    "regr = MLPRegressor(random_state=1, max_iter=5000).fit(X_train, y_train)\n",
    "regr.predict(X_test[:2])\n",
    "\n",
    "regr.score(X_test, y_test)\n"
   ]
  },
  {
   "cell_type": "code",
   "execution_count": null,
   "metadata": {},
   "outputs": [],
   "source": [
    "parameters = {'bootstrap': [True, False],\n",
    " 'max_depth': [10, 20, 30, 40, 50, 60, 70, 80, 90, 100, None],\n",
    " 'max_features': ['auto', 'sqrt'],\n",
    " 'min_samples_leaf': [1, 2, 4],\n",
    " 'min_samples_split': [2, 5, 10],\n",
    " 'n_estimators': [200, 400, 600, 800, 1000, 1200, 1400, 1600, 1800, 2000]}"
   ]
  },
  {
   "cell_type": "code",
   "execution_count": null,
   "metadata": {},
   "outputs": [],
   "source": [
    "#Reducimos para hacer la prueba con diferentes n_estimators\n",
    "params = {\n",
    "     'max_depth': [10, 20, 30, 40, 50, 60, 70, 80, 90, 100, None],\n",
    "}"
   ]
  },
  {
   "cell_type": "code",
   "execution_count": null,
   "metadata": {},
   "outputs": [],
   "source": [
    "from sklearn.model_selection import GridSearchCV"
   ]
  },
  {
   "cell_type": "code",
   "execution_count": null,
   "metadata": {},
   "outputs": [],
   "source": [
    "grid = GridSearchCV(RandomForestRegressor(),params,verbose=1)\n",
    "grid.fit(X_train,y_train)"
   ]
  },
  {
   "cell_type": "code",
   "execution_count": null,
   "metadata": {},
   "outputs": [],
   "source": [
    "print(grid.best_params_)"
   ]
  },
  {
   "cell_type": "code",
   "execution_count": 14,
   "metadata": {},
   "outputs": [
    {
     "name": "stdout",
     "output_type": "stream",
     "text": [
      "Checking whether there is an H2O instance running at http://localhost:54321 ..... not found.\n",
      "Attempting to start a local H2O server...\n",
      "  Java Version: java version \"14.0.1\" 2020-04-14; Java(TM) SE Runtime Environment (build 14.0.1+7); Java HotSpot(TM) 64-Bit Server VM (build 14.0.1+7, mixed mode, sharing)\n",
      "  Starting server from /usr/local/lib/python3.8/site-packages/h2o/backend/bin/h2o.jar\n",
      "  Ice root: /var/folders/67/cftjwrk93ll2_6bwxqr4mkzc0000gn/T/tmpohidiqhi\n",
      "  JVM stdout: /var/folders/67/cftjwrk93ll2_6bwxqr4mkzc0000gn/T/tmpohidiqhi/h2o_Javi_started_from_python.out\n",
      "  JVM stderr: /var/folders/67/cftjwrk93ll2_6bwxqr4mkzc0000gn/T/tmpohidiqhi/h2o_Javi_started_from_python.err\n",
      "  Server is running at http://127.0.0.1:54321\n",
      "Connecting to H2O server at http://127.0.0.1:54321 ... successful.\n"
     ]
    },
    {
     "data": {
      "text/html": [
       "<div style=\"overflow:auto\"><table style=\"width:50%\"><tr><td>H2O_cluster_uptime:</td>\n",
       "<td>02 secs</td></tr>\n",
       "<tr><td>H2O_cluster_timezone:</td>\n",
       "<td>Europe/Madrid</td></tr>\n",
       "<tr><td>H2O_data_parsing_timezone:</td>\n",
       "<td>UTC</td></tr>\n",
       "<tr><td>H2O_cluster_version:</td>\n",
       "<td>3.30.1.3</td></tr>\n",
       "<tr><td>H2O_cluster_version_age:</td>\n",
       "<td>13 days </td></tr>\n",
       "<tr><td>H2O_cluster_name:</td>\n",
       "<td>H2O_from_python_Javi_h9vypp</td></tr>\n",
       "<tr><td>H2O_cluster_total_nodes:</td>\n",
       "<td>1</td></tr>\n",
       "<tr><td>H2O_cluster_free_memory:</td>\n",
       "<td>2 Gb</td></tr>\n",
       "<tr><td>H2O_cluster_total_cores:</td>\n",
       "<td>4</td></tr>\n",
       "<tr><td>H2O_cluster_allowed_cores:</td>\n",
       "<td>4</td></tr>\n",
       "<tr><td>H2O_cluster_status:</td>\n",
       "<td>accepting new members, healthy</td></tr>\n",
       "<tr><td>H2O_connection_url:</td>\n",
       "<td>http://127.0.0.1:54321</td></tr>\n",
       "<tr><td>H2O_connection_proxy:</td>\n",
       "<td>{\"http\": null, \"https\": null}</td></tr>\n",
       "<tr><td>H2O_internal_security:</td>\n",
       "<td>False</td></tr>\n",
       "<tr><td>H2O_API_Extensions:</td>\n",
       "<td>Amazon S3, XGBoost, Algos, AutoML, Core V3, TargetEncoder, Core V4</td></tr>\n",
       "<tr><td>Python_version:</td>\n",
       "<td>3.8.3 final</td></tr></table></div>"
      ],
      "text/plain": [
       "--------------------------  ------------------------------------------------------------------\n",
       "H2O_cluster_uptime:         02 secs\n",
       "H2O_cluster_timezone:       Europe/Madrid\n",
       "H2O_data_parsing_timezone:  UTC\n",
       "H2O_cluster_version:        3.30.1.3\n",
       "H2O_cluster_version_age:    13 days\n",
       "H2O_cluster_name:           H2O_from_python_Javi_h9vypp\n",
       "H2O_cluster_total_nodes:    1\n",
       "H2O_cluster_free_memory:    2 Gb\n",
       "H2O_cluster_total_cores:    4\n",
       "H2O_cluster_allowed_cores:  4\n",
       "H2O_cluster_status:         accepting new members, healthy\n",
       "H2O_connection_url:         http://127.0.0.1:54321\n",
       "H2O_connection_proxy:       {\"http\": null, \"https\": null}\n",
       "H2O_internal_security:      False\n",
       "H2O_API_Extensions:         Amazon S3, XGBoost, Algos, AutoML, Core V3, TargetEncoder, Core V4\n",
       "Python_version:             3.8.3 final\n",
       "--------------------------  ------------------------------------------------------------------"
      ]
     },
     "metadata": {},
     "output_type": "display_data"
    }
   ],
   "source": [
    "# H2O\n",
    "import h2o\n",
    "from h2o.estimators import H2ORandomForestEstimator\n",
    "\n",
    "h2o.init()"
   ]
  },
  {
   "cell_type": "code",
   "execution_count": null,
   "metadata": {},
   "outputs": [],
   "source": [
    "#data2 = h2o.import_file(\"../outputs/h2o.csv\")"
   ]
  },
  {
   "cell_type": "code",
   "execution_count": 15,
   "metadata": {},
   "outputs": [
    {
     "name": "stdout",
     "output_type": "stream",
     "text": [
      "Parse progress: |█████████████████████████████████████████████████████████| 100%\n"
     ]
    }
   ],
   "source": [
    "h2train = h2o.H2OFrame(data2)"
   ]
  },
  {
   "cell_type": "code",
   "execution_count": 20,
   "metadata": {},
   "outputs": [],
   "source": [
    "columnas = [col for col in data2.columns if col not in [\"buy_price\"]]\n",
    "\n",
    "x = list(columnas)\n",
    "\n",
    "y = \"buy_price\""
   ]
  },
  {
   "cell_type": "code",
   "execution_count": null,
   "metadata": {},
   "outputs": [],
   "source": [
    "train, test = data2.split_frame(ratios=[0.8])"
   ]
  },
  {
   "cell_type": "code",
   "execution_count": 21,
   "metadata": {},
   "outputs": [
    {
     "name": "stdout",
     "output_type": "stream",
     "text": [
      "AutoML progress: |████████████████████████████████████████████████████████| 100%\n"
     ]
    }
   ],
   "source": [
    "from h2o.automl import H2OAutoML\n",
    "\n",
    "automl = H2OAutoML(max_models=50, seed=1,max_runtime_secs=1200, sort_metric='RMSE')\n",
    "automl.train(x, y, training_frame=h2train)"
   ]
  },
  {
   "cell_type": "code",
   "execution_count": null,
   "metadata": {},
   "outputs": [],
   "source": [
    "# Define model\n",
    "model = H2ORandomForestEstimator(ntrees=50, max_depth=20, nfolds=10, metric)\n",
    "\n",
    "# Train model\n",
    "model.train(x=training_columns, y=response_column, training_frame=X)"
   ]
  },
  {
   "cell_type": "code",
   "execution_count": 22,
   "metadata": {},
   "outputs": [
    {
     "data": {
      "text/html": [
       "<table>\n",
       "<thead>\n",
       "<tr><th>model_id                                           </th><th style=\"text-align: right;\">   rmse</th><th style=\"text-align: right;\">  mean_residual_deviance</th><th style=\"text-align: right;\">        mse</th><th style=\"text-align: right;\">    mae</th><th style=\"text-align: right;\">   rmsle</th></tr>\n",
       "</thead>\n",
       "<tbody>\n",
       "<tr><td>StackedEnsemble_AllModels_AutoML_20201011_203132   </td><td style=\"text-align: right;\">66919.3</td><td style=\"text-align: right;\">             4.47819e+09</td><td style=\"text-align: right;\">4.47819e+09</td><td style=\"text-align: right;\">41757.9</td><td style=\"text-align: right;\">0.160805</td></tr>\n",
       "<tr><td>StackedEnsemble_BestOfFamily_AutoML_20201011_203132</td><td style=\"text-align: right;\">67648.9</td><td style=\"text-align: right;\">             4.57638e+09</td><td style=\"text-align: right;\">4.57638e+09</td><td style=\"text-align: right;\">42342.7</td><td style=\"text-align: right;\">0.162938</td></tr>\n",
       "<tr><td>XGBoost_grid__1_AutoML_20201011_203132_model_1     </td><td style=\"text-align: right;\">69427.3</td><td style=\"text-align: right;\">             4.82015e+09</td><td style=\"text-align: right;\">4.82015e+09</td><td style=\"text-align: right;\">44178.4</td><td style=\"text-align: right;\">0.170085</td></tr>\n",
       "<tr><td>XGBoost_grid__1_AutoML_20201011_203132_model_3     </td><td style=\"text-align: right;\">69465.4</td><td style=\"text-align: right;\">             4.82544e+09</td><td style=\"text-align: right;\">4.82544e+09</td><td style=\"text-align: right;\">44344.2</td><td style=\"text-align: right;\">0.169072</td></tr>\n",
       "<tr><td>GBM_grid__1_AutoML_20201011_203132_model_9         </td><td style=\"text-align: right;\">70054.1</td><td style=\"text-align: right;\">             4.90758e+09</td><td style=\"text-align: right;\">4.90758e+09</td><td style=\"text-align: right;\">43936.9</td><td style=\"text-align: right;\">0.168495</td></tr>\n",
       "<tr><td>GBM_4_AutoML_20201011_203132                       </td><td style=\"text-align: right;\">70333.2</td><td style=\"text-align: right;\">             4.94676e+09</td><td style=\"text-align: right;\">4.94676e+09</td><td style=\"text-align: right;\">45151.4</td><td style=\"text-align: right;\">0.167822</td></tr>\n",
       "<tr><td>XGBoost_grid__1_AutoML_20201011_203132_model_12    </td><td style=\"text-align: right;\">70473  </td><td style=\"text-align: right;\">             4.96644e+09</td><td style=\"text-align: right;\">4.96644e+09</td><td style=\"text-align: right;\">43746.5</td><td style=\"text-align: right;\">0.172262</td></tr>\n",
       "<tr><td>XGBoost_grid__1_AutoML_20201011_203132_model_2     </td><td style=\"text-align: right;\">70555.3</td><td style=\"text-align: right;\">             4.97805e+09</td><td style=\"text-align: right;\">4.97805e+09</td><td style=\"text-align: right;\">45126.9</td><td style=\"text-align: right;\">0.170704</td></tr>\n",
       "<tr><td>GBM_grid__1_AutoML_20201011_203132_model_11        </td><td style=\"text-align: right;\">70571.3</td><td style=\"text-align: right;\">             4.98031e+09</td><td style=\"text-align: right;\">4.98031e+09</td><td style=\"text-align: right;\">44984.3</td><td style=\"text-align: right;\">0.168454</td></tr>\n",
       "<tr><td>GBM_3_AutoML_20201011_203132                       </td><td style=\"text-align: right;\">70910.3</td><td style=\"text-align: right;\">             5.02827e+09</td><td style=\"text-align: right;\">5.02827e+09</td><td style=\"text-align: right;\">45913.8</td><td style=\"text-align: right;\">0.168302</td></tr>\n",
       "</tbody>\n",
       "</table>"
      ]
     },
     "metadata": {},
     "output_type": "display_data"
    },
    {
     "data": {
      "text/plain": []
     },
     "execution_count": 22,
     "metadata": {},
     "output_type": "execute_result"
    }
   ],
   "source": [
    "leader_board = automl.leaderboard\n",
    "leader_board.head()"
   ]
  },
  {
   "cell_type": "code",
   "execution_count": null,
   "metadata": {},
   "outputs": [],
   "source": [
    "# Model performance\n",
    "performance = model.model_performance(test_data=test)\n",
    "\n",
    "print performance"
   ]
  }
 ],
 "metadata": {
  "kernelspec": {
   "display_name": "Python 3",
   "language": "python",
   "name": "python3"
  },
  "language_info": {
   "codemirror_mode": {
    "name": "ipython",
    "version": 3
   },
   "file_extension": ".py",
   "mimetype": "text/x-python",
   "name": "python",
   "nbconvert_exporter": "python",
   "pygments_lexer": "ipython3",
   "version": "3.8.3"
  }
 },
 "nbformat": 4,
 "nbformat_minor": 4
}
